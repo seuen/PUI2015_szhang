{
 "cells": [
  {
   "cell_type": "code",
   "execution_count": 1,
   "metadata": {
    "collapsed": true
   },
   "outputs": [],
   "source": [
    "__author__ = 'siying'\n",
    "\n",
    "%matplotlib inline\n",
    "\n",
    "import ast\n",
    "import json\n",
    "import urllib\n",
    "import urllib2\n",
    "import pylab as plt\n",
    "import os\n",
    "import statsmodels.formula.api as smf\n",
    "import pysal\n",
    "from cStringIO import StringIO\n",
    "import pandas as pd\n",
    "import numpy as np\n",
    "import geopandas as gpd\n",
    "from shapely.geometry import Polygon\n",
    "import mplleaflet\n",
    "s = json.load( open(os.getenv('PUI2015')+'/fbb_matplotlibrc.json') )\n",
    "SQL_SOURCE = 'https://htv210.cartodb.com/api/v2/sql'"
   ]
  },
  {
   "cell_type": "code",
   "execution_count": 2,
   "metadata": {
    "collapsed": true
   },
   "outputs": [],
   "source": [
    "def queryCartoDB(query, format='CSV', source=SQL_SOURCE):\n",
    "    data = urllib.urlencode({'format': format, 'q': query})\n",
    "    try:\n",
    "        response = urllib2.urlopen(source, data)\n",
    "    except urllib2.HTTPError, e:\n",
    "        raise ValueError('\\n'.join(ast.literal_eval(e.readline())['error']))\n",
    "    except Exception:\n",
    "        raise\n",
    "    return StringIO(response.read())"
   ]
  },
  {
   "cell_type": "code",
   "execution_count": 3,
   "metadata": {
    "collapsed": true
   },
   "outputs": [],
   "source": [
    "dischargeQuery = '''\n",
    "SELECT facility_id, COUNT(*) AS count\n",
    "FROM nyc_discharge_2013\n",
    "WHERE lower(ccs_diagnosis_description) LIKE '%asthma%'\n",
    "GROUP BY facility_id\n",
    "ORDER BY count DESC\n",
    "LIMIT 5\n",
    "'''"
   ]
  },
  {
   "cell_type": "markdown",
   "metadata": {},
   "source": [
    "## Task 1"
   ]
  },
  {
   "cell_type": "code",
   "execution_count": 4,
   "metadata": {
    "collapsed": false
   },
   "outputs": [],
   "source": [
    "# dischargeStream = queryCartoDB(dischargeQuery, format='CSV')\n",
    "# discharge       = pd.read_csv(dischargeStream)\n",
    "\n",
    "# facilityStream = queryCartoDB(facilityQuery, format='GeoJSON')\n",
    "# facilityData   = json.loads(facilityStream.read())\n",
    "# facilities     = gpd.GeoDataFrame.from_features(facilityData['features'])\n",
    "\n",
    "# zipcodeStream = queryCartoDB(zipcodeQuery, format='GeoJSON')\n",
    "# zipcodeData   = json.loads(zipcodeStream.read())\n",
    "# zipcodes      = gpd.GeoDataFrame.from_features(zipcodeData['features'])\n",
    "\n",
    "facilityStream = queryCartoDB(dischargeQuery, format='CSV')\n",
    "facilities = pd.read_csv(facilityStream)"
   ]
  },
  {
   "cell_type": "code",
   "execution_count": 5,
   "metadata": {
    "collapsed": false,
    "scrolled": true
   },
   "outputs": [
    {
     "data": {
      "text/html": [
       "<div>\n",
       "<table border=\"1\" class=\"dataframe\">\n",
       "  <thead>\n",
       "    <tr style=\"text-align: right;\">\n",
       "      <th></th>\n",
       "      <th>facility_id</th>\n",
       "      <th>count</th>\n",
       "    </tr>\n",
       "  </thead>\n",
       "  <tbody>\n",
       "    <tr>\n",
       "      <th>0</th>\n",
       "      <td>1172</td>\n",
       "      <td>1878</td>\n",
       "    </tr>\n",
       "    <tr>\n",
       "      <th>1</th>\n",
       "      <td>1169</td>\n",
       "      <td>1786</td>\n",
       "    </tr>\n",
       "    <tr>\n",
       "      <th>2</th>\n",
       "      <td>1301</td>\n",
       "      <td>1057</td>\n",
       "    </tr>\n",
       "    <tr>\n",
       "      <th>3</th>\n",
       "      <td>1165</td>\n",
       "      <td>920</td>\n",
       "    </tr>\n",
       "    <tr>\n",
       "      <th>4</th>\n",
       "      <td>1178</td>\n",
       "      <td>890</td>\n",
       "    </tr>\n",
       "  </tbody>\n",
       "</table>\n",
       "</div>"
      ],
      "text/plain": [
       "   facility_id  count\n",
       "0         1172   1878\n",
       "1         1169   1786\n",
       "2         1301   1057\n",
       "3         1165    920\n",
       "4         1178    890"
      ]
     },
     "execution_count": 5,
     "metadata": {},
     "output_type": "execute_result"
    }
   ],
   "source": [
    "facilities.head()"
   ]
  },
  {
   "cell_type": "code",
   "execution_count": 6,
   "metadata": {
    "collapsed": true
   },
   "outputs": [],
   "source": [
    "facID = str(tuple(facilities.facility_id.tolist()))"
   ]
  },
  {
   "cell_type": "code",
   "execution_count": 7,
   "metadata": {
    "collapsed": false
   },
   "outputs": [],
   "source": [
    "facilityQuery = '''\n",
    "SELECT *\n",
    "FROM nyc_facilities\n",
    "WHERE facility_id in %s\n",
    "''' % facID"
   ]
  },
  {
   "cell_type": "code",
   "execution_count": 8,
   "metadata": {
    "collapsed": false
   },
   "outputs": [],
   "source": [
    "facilityStream = queryCartoDB(facilityQuery, format='GeoJSON')\n",
    "facilityData   = json.loads(facilityStream.read())\n",
    "all_facilities   = gpd.GeoDataFrame.from_features(facilityData['features'])"
   ]
  },
  {
   "cell_type": "code",
   "execution_count": 9,
   "metadata": {
    "collapsed": false,
    "scrolled": true
   },
   "outputs": [
    {
     "data": {
      "text/html": [
       "<div>\n",
       "<table border=\"1\" class=\"dataframe\">\n",
       "  <thead>\n",
       "    <tr style=\"text-align: right;\">\n",
       "      <th></th>\n",
       "      <th>cartodb_id</th>\n",
       "      <th>cooperator_address</th>\n",
       "      <th>cooperator_address_2</th>\n",
       "      <th>cooperator_city</th>\n",
       "      <th>cooperator_name</th>\n",
       "      <th>cooperator_state</th>\n",
       "      <th>cooperator_zip_code</th>\n",
       "      <th>description</th>\n",
       "      <th>facility_address_1</th>\n",
       "      <th>facility_address_2</th>\n",
       "      <th>...</th>\n",
       "      <th>operator_address_1</th>\n",
       "      <th>operator_address_2</th>\n",
       "      <th>operator_city</th>\n",
       "      <th>operator_name</th>\n",
       "      <th>operator_state</th>\n",
       "      <th>operator_zip_code</th>\n",
       "      <th>ownership_type</th>\n",
       "      <th>regional_office</th>\n",
       "      <th>regional_office_id</th>\n",
       "      <th>short_description</th>\n",
       "    </tr>\n",
       "  </thead>\n",
       "  <tbody>\n",
       "    <tr>\n",
       "      <th>0</th>\n",
       "      <td>624</td>\n",
       "      <td></td>\n",
       "      <td></td>\n",
       "      <td></td>\n",
       "      <td></td>\n",
       "      <td>New York</td>\n",
       "      <td>NaN</td>\n",
       "      <td>Hospital</td>\n",
       "      <td>1400 Pelham Parkway</td>\n",
       "      <td></td>\n",
       "      <td>...</td>\n",
       "      <td>125 Worth Street</td>\n",
       "      <td></td>\n",
       "      <td>New York</td>\n",
       "      <td>New York City Health and Hospital Corporation</td>\n",
       "      <td>New York</td>\n",
       "      <td>10013</td>\n",
       "      <td>Municipality</td>\n",
       "      <td>Metropolitan Area Regional Office - New York City</td>\n",
       "      <td>5</td>\n",
       "      <td>HOSP</td>\n",
       "    </tr>\n",
       "    <tr>\n",
       "      <th>1</th>\n",
       "      <td>627</td>\n",
       "      <td>111 East 210th Street</td>\n",
       "      <td></td>\n",
       "      <td>Bronx</td>\n",
       "      <td>Montefiore Medical Center</td>\n",
       "      <td>New York</td>\n",
       "      <td>10467</td>\n",
       "      <td>Hospital</td>\n",
       "      <td>111 East 210th Street</td>\n",
       "      <td></td>\n",
       "      <td>...</td>\n",
       "      <td>111 East 210th Street</td>\n",
       "      <td></td>\n",
       "      <td>Bronx</td>\n",
       "      <td>Montefiore Health System, Inc</td>\n",
       "      <td>New York</td>\n",
       "      <td>10467</td>\n",
       "      <td>Not for Profit Corporation</td>\n",
       "      <td>Metropolitan Area Regional Office - New York City</td>\n",
       "      <td>5</td>\n",
       "      <td>HOSP</td>\n",
       "    </tr>\n",
       "    <tr>\n",
       "      <th>2</th>\n",
       "      <td>628</td>\n",
       "      <td></td>\n",
       "      <td></td>\n",
       "      <td></td>\n",
       "      <td></td>\n",
       "      <td>New York</td>\n",
       "      <td>NaN</td>\n",
       "      <td>Hospital</td>\n",
       "      <td>234 East 149th Street</td>\n",
       "      <td></td>\n",
       "      <td>...</td>\n",
       "      <td>125 Worth Street</td>\n",
       "      <td></td>\n",
       "      <td>New York</td>\n",
       "      <td>New York City Health and Hospital Corporation</td>\n",
       "      <td>New York</td>\n",
       "      <td>10013</td>\n",
       "      <td>Municipality</td>\n",
       "      <td>Metropolitan Area Regional Office - New York City</td>\n",
       "      <td>5</td>\n",
       "      <td>HOSP</td>\n",
       "    </tr>\n",
       "    <tr>\n",
       "      <th>3</th>\n",
       "      <td>631</td>\n",
       "      <td></td>\n",
       "      <td></td>\n",
       "      <td></td>\n",
       "      <td></td>\n",
       "      <td>New York</td>\n",
       "      <td>NaN</td>\n",
       "      <td>Hospital</td>\n",
       "      <td>1650 Grand Concourse</td>\n",
       "      <td></td>\n",
       "      <td>...</td>\n",
       "      <td>1276 Fulton Avenue</td>\n",
       "      <td></td>\n",
       "      <td>Bronx</td>\n",
       "      <td>Bronx Lebanon Hospital Center Inc</td>\n",
       "      <td>New York</td>\n",
       "      <td>10456</td>\n",
       "      <td>Not for Profit Corporation</td>\n",
       "      <td>Metropolitan Area Regional Office - New York City</td>\n",
       "      <td>5</td>\n",
       "      <td>HOSP</td>\n",
       "    </tr>\n",
       "    <tr>\n",
       "      <th>4</th>\n",
       "      <td>696</td>\n",
       "      <td></td>\n",
       "      <td></td>\n",
       "      <td></td>\n",
       "      <td></td>\n",
       "      <td>New York</td>\n",
       "      <td>NaN</td>\n",
       "      <td>Hospital</td>\n",
       "      <td>451 Clarkson Avenue</td>\n",
       "      <td></td>\n",
       "      <td>...</td>\n",
       "      <td>125 Worth Street</td>\n",
       "      <td></td>\n",
       "      <td>New York</td>\n",
       "      <td>New York City Health and Hospital Corporation</td>\n",
       "      <td>New York</td>\n",
       "      <td>10013</td>\n",
       "      <td>Municipality</td>\n",
       "      <td>Metropolitan Area Regional Office - New York City</td>\n",
       "      <td>5</td>\n",
       "      <td>HOSP</td>\n",
       "    </tr>\n",
       "  </tbody>\n",
       "</table>\n",
       "<p>5 rows × 38 columns</p>\n",
       "</div>"
      ],
      "text/plain": [
       "   cartodb_id     cooperator_address cooperator_address_2 cooperator_city  \\\n",
       "0         624                                                               \n",
       "1         627  111 East 210th Street                                Bronx   \n",
       "2         628                                                               \n",
       "3         631                                                               \n",
       "4         696                                                               \n",
       "\n",
       "             cooperator_name cooperator_state  cooperator_zip_code  \\\n",
       "0                                    New York                  NaN   \n",
       "1  Montefiore Medical Center         New York                10467   \n",
       "2                                    New York                  NaN   \n",
       "3                                    New York                  NaN   \n",
       "4                                    New York                  NaN   \n",
       "\n",
       "  description     facility_address_1 facility_address_2        ...         \\\n",
       "0    Hospital    1400 Pelham Parkway                           ...          \n",
       "1    Hospital  111 East 210th Street                           ...          \n",
       "2    Hospital  234 East 149th Street                           ...          \n",
       "3    Hospital   1650 Grand Concourse                           ...          \n",
       "4    Hospital    451 Clarkson Avenue                           ...          \n",
       "\n",
       "      operator_address_1 operator_address_2  operator_city  \\\n",
       "0       125 Worth Street                          New York   \n",
       "1  111 East 210th Street                             Bronx   \n",
       "2       125 Worth Street                          New York   \n",
       "3     1276 Fulton Avenue                             Bronx   \n",
       "4       125 Worth Street                          New York   \n",
       "\n",
       "                                   operator_name  operator_state  \\\n",
       "0  New York City Health and Hospital Corporation        New York   \n",
       "1                  Montefiore Health System, Inc        New York   \n",
       "2  New York City Health and Hospital Corporation        New York   \n",
       "3              Bronx Lebanon Hospital Center Inc        New York   \n",
       "4  New York City Health and Hospital Corporation        New York   \n",
       "\n",
       "   operator_zip_code              ownership_type  \\\n",
       "0              10013                Municipality   \n",
       "1              10467  Not for Profit Corporation   \n",
       "2              10013                Municipality   \n",
       "3              10456  Not for Profit Corporation   \n",
       "4              10013                Municipality   \n",
       "\n",
       "                                     regional_office regional_office_id  \\\n",
       "0  Metropolitan Area Regional Office - New York City                  5   \n",
       "1  Metropolitan Area Regional Office - New York City                  5   \n",
       "2  Metropolitan Area Regional Office - New York City                  5   \n",
       "3  Metropolitan Area Regional Office - New York City                  5   \n",
       "4  Metropolitan Area Regional Office - New York City                  5   \n",
       "\n",
       "  short_description  \n",
       "0              HOSP  \n",
       "1              HOSP  \n",
       "2              HOSP  \n",
       "3              HOSP  \n",
       "4              HOSP  \n",
       "\n",
       "[5 rows x 38 columns]"
      ]
     },
     "execution_count": 9,
     "metadata": {},
     "output_type": "execute_result"
    }
   ],
   "source": [
    "# all_facilities = facilities[['facility_id','facility_name']]\n",
    "all_facilities.head()"
   ]
  },
  {
   "cell_type": "code",
   "execution_count": 11,
   "metadata": {
    "collapsed": false
   },
   "outputs": [],
   "source": [
    "zips = gpd.read_file('nyc-zip-code-tabulation-areas-polygons.geojson')\n",
    "all_facilities.crs = {'init':'epsg:4326', 'no_defs':True}\n",
    "all_facilities.to_crs(zips.crs, inplace=1)"
   ]
  },
  {
   "cell_type": "code",
   "execution_count": 12,
   "metadata": {
    "collapsed": false
   },
   "outputs": [
    {
     "data": {
      "text/html": [
       "<iframe src=\"data:text/html;base64,PGhlYWQ+CiAgICA8c2NyaXB0IHNyYz0iaHR0cHM6Ly9jZG5qcy5jbG91ZGZsYXJlLmNvbS9hamF4\n",
       "L2xpYnMvbGVhZmxldC8wLjcuMy9sZWFmbGV0LmpzIj48L3NjcmlwdD4KICAgIDxsaW5rIHJlbD0i\n",
       "c3R5bGVzaGVldCIgaHJlZj0iaHR0cHM6Ly9jZG5qcy5jbG91ZGZsYXJlLmNvbS9hamF4L2xpYnMv\n",
       "bGVhZmxldC8wLjcuMy9sZWFmbGV0LmNzcyIgLz4KICA8c3R5bGU+CiAgICAjbWFwY2U5NzVlNjUw\n",
       "NmI0NDg0MjgwMjcwZDIzMzc5Y2QyMWIgewogICAgICBoZWlnaHQ6MTAwJTsKICAgIH0KICA8L3N0\n",
       "eWxlPiAKPC9oZWFkPgo8Ym9keT4KICA8ZGl2IGlkPSJtYXBjZTk3NWU2NTA2YjQ0ODQyODAyNzBk\n",
       "MjMzNzljZDIxYiI+PC9kaXY+CjxzY3JpcHQgdGV4dD0idGV4dC9qYXZhc2NyaXB0Ij4KdmFyIG1h\n",
       "cCA9IEwubWFwKCdtYXBjZTk3NWU2NTA2YjQ0ODQyODAyNzBkMjMzNzljZDIxYicpOwpMLnRpbGVM\n",
       "YXllcigKICAiaHR0cDovL3tzfS5iYXNlbWFwcy5jYXJ0b2Nkbi5jb20vbGlnaHRfYWxsL3t6fS97\n",
       "eH0ve3l9LnBuZyIsCiAge21heFpvb206MTksIGF0dHJpYnV0aW9uOiAnPGEgaHJlZj0iaHR0cHM6\n",
       "Ly9naXRodWIuY29tL2p3YXNzL21wbGxlYWZsZXQiPm1wbGxlYWZsZXQ8L2E+IHwgJmNvcHk7IDxh\n",
       "IGhyZWY9Imh0dHA6Ly93d3cub3BlbnN0cmVldG1hcC5vcmcvY29weXJpZ2h0Ij5PcGVuU3RyZWV0\n",
       "TWFwPC9hPiAmY29weTsgPGEgaHJlZj0iaHR0cDovL2NhcnRvZGIuY29tL2F0dHJpYnV0aW9ucyI+\n",
       "Q2FydG9EQjwvYT4nfSkuYWRkVG8obWFwKTsKdmFyIGdqRGF0YSA9IHsidHlwZSI6ICJGZWF0dXJl\n",
       "Q29sbGVjdGlvbiIsICJmZWF0dXJlcyI6IFt7Imdlb21ldHJ5IjogeyJ0eXBlIjogIkxpbmVTdHJp\n",
       "bmciLCAiY29vcmRpbmF0ZXMiOiBbWy03My44NDY3NDEsIDQwLjg1NzM4OF1dfSwgInR5cGUiOiAi\n",
       "RmVhdHVyZSIsICJwcm9wZXJ0aWVzIjogeyJjb2xvciI6ICIjMDAwMDdGIiwgIm9wYWNpdHkiOiAx\n",
       "LCAid2VpZ2h0IjogMS4wfX0sIHsiZ2VvbWV0cnkiOiB7InR5cGUiOiAiUG9pbnQiLCAiY29vcmRp\n",
       "bmF0ZXMiOiBbLTczLjg0Njc0MSwgNDAuODU3Mzg4XX0sICJ0eXBlIjogIkZlYXR1cmUiLCAicHJv\n",
       "cGVydGllcyI6IHsiYW5jaG9yX3giOiAxLjUsICJodG1sIjogIjxzdmcgd2lkdGg9XCIzcHhcIiBo\n",
       "ZWlnaHQ9XCIzcHhcIiB2aWV3Qm94PVwiLTEuNSAtMS41IDMuMCAzLjBcIiB4bWxucz1cImh0dHA6\n",
       "Ly93d3cudzMub3JnLzIwMDAvc3ZnXCIgdmVyc2lvbj1cIjEuMVwiPiAgPHBhdGggZD1cIk0gMC4w\n",
       "IC0xLjAgQyAwLjI2NTIwMzEgLTEuMCAwLjUxOTU3OTg3MDc4NSAtMC44OTQ2MzM2OTE1ODggMC43\n",
       "MDcxMDY3ODExODcgLTAuNzA3MTA2NzgxMTg3IEMgMC44OTQ2MzM2OTE1ODggLTAuNTE5NTc5ODcw\n",
       "Nzg1IDEuMCAtMC4yNjUyMDMxIDEuMCAtMC4wIEMgMS4wIDAuMjY1MjAzMSAwLjg5NDYzMzY5MTU4\n",
       "OCAwLjUxOTU3OTg3MDc4NSAwLjcwNzEwNjc4MTE4NyAwLjcwNzEwNjc4MTE4NyBDIDAuNTE5NTc5\n",
       "ODcwNzg1IDAuODk0NjMzNjkxNTg4IDAuMjY1MjAzMSAxLjAgMC4wIDEuMCBDIC0wLjI2NTIwMzEg\n",
       "MS4wIC0wLjUxOTU3OTg3MDc4NSAwLjg5NDYzMzY5MTU4OCAtMC43MDcxMDY3ODExODcgMC43MDcx\n",
       "MDY3ODExODcgQyAtMC44OTQ2MzM2OTE1ODggMC41MTk1Nzk4NzA3ODUgLTEuMCAwLjI2NTIwMzEg\n",
       "LTEuMCAtMC4wIEMgLTEuMCAtMC4yNjUyMDMxIC0wLjg5NDYzMzY5MTU4OCAtMC41MTk1Nzk4NzA3\n",
       "ODUgLTAuNzA3MTA2NzgxMTg3IC0wLjcwNzEwNjc4MTE4NyBDIC0wLjUxOTU3OTg3MDc4NSAtMC44\n",
       "OTQ2MzM2OTE1ODggLTAuMjY1MjAzMSAtMS4wIDAuMCAtMS4wIFpcIiBmaWxsLW9wYWNpdHk9XCIx\n",
       "XCIgc3Ryb2tlPVwiIzAwMDAwMFwiIHN0cm9rZS13aWR0aD1cIjAuNVwiIHN0cm9rZS1vcGFjaXR5\n",
       "PVwiMVwiIGZpbGw9XCIjMDAwMDdGXCIgLz48L3N2Zz4iLCAiYW5jaG9yX3kiOiAxLjV9fSwgeyJn\n",
       "ZW9tZXRyeSI6IHsidHlwZSI6ICJMaW5lU3RyaW5nIiwgImNvb3JkaW5hdGVzIjogW1stNzMuODgw\n",
       "NTYyLCA0MC44Nzk5NTFdXX0sICJ0eXBlIjogIkZlYXR1cmUiLCAicHJvcGVydGllcyI6IHsiY29s\n",
       "b3IiOiAiIzAwN0ZGRiIsICJvcGFjaXR5IjogMSwgIndlaWdodCI6IDEuMH19LCB7Imdlb21ldHJ5\n",
       "IjogeyJ0eXBlIjogIlBvaW50IiwgImNvb3JkaW5hdGVzIjogWy03My44ODA1NjIsIDQwLjg3OTk1\n",
       "MV19LCAidHlwZSI6ICJGZWF0dXJlIiwgInByb3BlcnRpZXMiOiB7ImFuY2hvcl94IjogMS41LCAi\n",
       "aHRtbCI6ICI8c3ZnIHdpZHRoPVwiM3B4XCIgaGVpZ2h0PVwiM3B4XCIgdmlld0JveD1cIi0xLjUg\n",
       "LTEuNSAzLjAgMy4wXCIgeG1sbnM9XCJodHRwOi8vd3d3LnczLm9yZy8yMDAwL3N2Z1wiIHZlcnNp\n",
       "b249XCIxLjFcIj4gIDxwYXRoIGQ9XCJNIDAuMCAtMS4wIEMgMC4yNjUyMDMxIC0xLjAgMC41MTk1\n",
       "Nzk4NzA3ODUgLTAuODk0NjMzNjkxNTg4IDAuNzA3MTA2NzgxMTg3IC0wLjcwNzEwNjc4MTE4NyBD\n",
       "IDAuODk0NjMzNjkxNTg4IC0wLjUxOTU3OTg3MDc4NSAxLjAgLTAuMjY1MjAzMSAxLjAgLTAuMCBD\n",
       "IDEuMCAwLjI2NTIwMzEgMC44OTQ2MzM2OTE1ODggMC41MTk1Nzk4NzA3ODUgMC43MDcxMDY3ODEx\n",
       "ODcgMC43MDcxMDY3ODExODcgQyAwLjUxOTU3OTg3MDc4NSAwLjg5NDYzMzY5MTU4OCAwLjI2NTIw\n",
       "MzEgMS4wIDAuMCAxLjAgQyAtMC4yNjUyMDMxIDEuMCAtMC41MTk1Nzk4NzA3ODUgMC44OTQ2MzM2\n",
       "OTE1ODggLTAuNzA3MTA2NzgxMTg3IDAuNzA3MTA2NzgxMTg3IEMgLTAuODk0NjMzNjkxNTg4IDAu\n",
       "NTE5NTc5ODcwNzg1IC0xLjAgMC4yNjUyMDMxIC0xLjAgLTAuMCBDIC0xLjAgLTAuMjY1MjAzMSAt\n",
       "MC44OTQ2MzM2OTE1ODggLTAuNTE5NTc5ODcwNzg1IC0wLjcwNzEwNjc4MTE4NyAtMC43MDcxMDY3\n",
       "ODExODcgQyAtMC41MTk1Nzk4NzA3ODUgLTAuODk0NjMzNjkxNTg4IC0wLjI2NTIwMzEgLTEuMCAw\n",
       "LjAgLTEuMCBaXCIgZmlsbC1vcGFjaXR5PVwiMVwiIHN0cm9rZT1cIiMwMDAwMDBcIiBzdHJva2Ut\n",
       "d2lkdGg9XCIwLjVcIiBzdHJva2Utb3BhY2l0eT1cIjFcIiBmaWxsPVwiIzAwN0ZGRlwiIC8+PC9z\n",
       "dmc+IiwgImFuY2hvcl95IjogMS41fX0sIHsiZ2VvbWV0cnkiOiB7InR5cGUiOiAiTGluZVN0cmlu\n",
       "ZyIsICJjb29yZGluYXRlcyI6IFtbLTczLjkyNDIxLCA0MC44MTc2NjFdXX0sICJ0eXBlIjogIkZl\n",
       "YXR1cmUiLCAicHJvcGVydGllcyI6IHsiY29sb3IiOiAiIzdCRkY3QiIsICJvcGFjaXR5IjogMSwg\n",
       "IndlaWdodCI6IDEuMH19LCB7Imdlb21ldHJ5IjogeyJ0eXBlIjogIlBvaW50IiwgImNvb3JkaW5h\n",
       "dGVzIjogWy03My45MjQyMSwgNDAuODE3NjYxXX0sICJ0eXBlIjogIkZlYXR1cmUiLCAicHJvcGVy\n",
       "dGllcyI6IHsiYW5jaG9yX3giOiAxLjUsICJodG1sIjogIjxzdmcgd2lkdGg9XCIzcHhcIiBoZWln\n",
       "aHQ9XCIzcHhcIiB2aWV3Qm94PVwiLTEuNSAtMS41IDMuMCAzLjBcIiB4bWxucz1cImh0dHA6Ly93\n",
       "d3cudzMub3JnLzIwMDAvc3ZnXCIgdmVyc2lvbj1cIjEuMVwiPiAgPHBhdGggZD1cIk0gMC4wIC0x\n",
       "LjAgQyAwLjI2NTIwMzEgLTEuMCAwLjUxOTU3OTg3MDc4NSAtMC44OTQ2MzM2OTE1ODggMC43MDcx\n",
       "MDY3ODExODcgLTAuNzA3MTA2NzgxMTg3IEMgMC44OTQ2MzM2OTE1ODggLTAuNTE5NTc5ODcwNzg1\n",
       "IDEuMCAtMC4yNjUyMDMxIDEuMCAtMC4wIEMgMS4wIDAuMjY1MjAzMSAwLjg5NDYzMzY5MTU4OCAw\n",
       "LjUxOTU3OTg3MDc4NSAwLjcwNzEwNjc4MTE4NyAwLjcwNzEwNjc4MTE4NyBDIDAuNTE5NTc5ODcw\n",
       "Nzg1IDAuODk0NjMzNjkxNTg4IDAuMjY1MjAzMSAxLjAgMC4wIDEuMCBDIC0wLjI2NTIwMzEgMS4w\n",
       "IC0wLjUxOTU3OTg3MDc4NSAwLjg5NDYzMzY5MTU4OCAtMC43MDcxMDY3ODExODcgMC43MDcxMDY3\n",
       "ODExODcgQyAtMC44OTQ2MzM2OTE1ODggMC41MTk1Nzk4NzA3ODUgLTEuMCAwLjI2NTIwMzEgLTEu\n",
       "MCAtMC4wIEMgLTEuMCAtMC4yNjUyMDMxIC0wLjg5NDYzMzY5MTU4OCAtMC41MTk1Nzk4NzA3ODUg\n",
       "LTAuNzA3MTA2NzgxMTg3IC0wLjcwNzEwNjc4MTE4NyBDIC0wLjUxOTU3OTg3MDc4NSAtMC44OTQ2\n",
       "MzM2OTE1ODggLTAuMjY1MjAzMSAtMS4wIDAuMCAtMS4wIFpcIiBmaWxsLW9wYWNpdHk9XCIxXCIg\n",
       "c3Ryb2tlPVwiIzAwMDAwMFwiIHN0cm9rZS13aWR0aD1cIjAuNVwiIHN0cm9rZS1vcGFjaXR5PVwi\n",
       "MVwiIGZpbGw9XCIjN0JGRjdCXCIgLz48L3N2Zz4iLCAiYW5jaG9yX3kiOiAxLjV9fSwgeyJnZW9t\n",
       "ZXRyeSI6IHsidHlwZSI6ICJMaW5lU3RyaW5nIiwgImNvb3JkaW5hdGVzIjogW1stNzMuOTExNTQ1\n",
       "LCA0MC44NDM2MDldXX0sICJ0eXBlIjogIkZlYXR1cmUiLCAicHJvcGVydGllcyI6IHsiY29sb3Ii\n",
       "OiAiI0ZGOTcwMCIsICJvcGFjaXR5IjogMSwgIndlaWdodCI6IDEuMH19LCB7Imdlb21ldHJ5Ijog\n",
       "eyJ0eXBlIjogIlBvaW50IiwgImNvb3JkaW5hdGVzIjogWy03My45MTE1NDUsIDQwLjg0MzYwOV19\n",
       "LCAidHlwZSI6ICJGZWF0dXJlIiwgInByb3BlcnRpZXMiOiB7ImFuY2hvcl94IjogMS41LCAiaHRt\n",
       "bCI6ICI8c3ZnIHdpZHRoPVwiM3B4XCIgaGVpZ2h0PVwiM3B4XCIgdmlld0JveD1cIi0xLjUgLTEu\n",
       "NSAzLjAgMy4wXCIgeG1sbnM9XCJodHRwOi8vd3d3LnczLm9yZy8yMDAwL3N2Z1wiIHZlcnNpb249\n",
       "XCIxLjFcIj4gIDxwYXRoIGQ9XCJNIDAuMCAtMS4wIEMgMC4yNjUyMDMxIC0xLjAgMC41MTk1Nzk4\n",
       "NzA3ODUgLTAuODk0NjMzNjkxNTg4IDAuNzA3MTA2NzgxMTg3IC0wLjcwNzEwNjc4MTE4NyBDIDAu\n",
       "ODk0NjMzNjkxNTg4IC0wLjUxOTU3OTg3MDc4NSAxLjAgLTAuMjY1MjAzMSAxLjAgLTAuMCBDIDEu\n",
       "MCAwLjI2NTIwMzEgMC44OTQ2MzM2OTE1ODggMC41MTk1Nzk4NzA3ODUgMC43MDcxMDY3ODExODcg\n",
       "MC43MDcxMDY3ODExODcgQyAwLjUxOTU3OTg3MDc4NSAwLjg5NDYzMzY5MTU4OCAwLjI2NTIwMzEg\n",
       "MS4wIDAuMCAxLjAgQyAtMC4yNjUyMDMxIDEuMCAtMC41MTk1Nzk4NzA3ODUgMC44OTQ2MzM2OTE1\n",
       "ODggLTAuNzA3MTA2NzgxMTg3IDAuNzA3MTA2NzgxMTg3IEMgLTAuODk0NjMzNjkxNTg4IDAuNTE5\n",
       "NTc5ODcwNzg1IC0xLjAgMC4yNjUyMDMxIC0xLjAgLTAuMCBDIC0xLjAgLTAuMjY1MjAzMSAtMC44\n",
       "OTQ2MzM2OTE1ODggLTAuNTE5NTc5ODcwNzg1IC0wLjcwNzEwNjc4MTE4NyAtMC43MDcxMDY3ODEx\n",
       "ODcgQyAtMC41MTk1Nzk4NzA3ODUgLTAuODk0NjMzNjkxNTg4IC0wLjI2NTIwMzEgLTEuMCAwLjAg\n",
       "LTEuMCBaXCIgZmlsbC1vcGFjaXR5PVwiMVwiIHN0cm9rZT1cIiMwMDAwMDBcIiBzdHJva2Utd2lk\n",
       "dGg9XCIwLjVcIiBzdHJva2Utb3BhY2l0eT1cIjFcIiBmaWxsPVwiI0ZGOTcwMFwiIC8+PC9zdmc+\n",
       "IiwgImFuY2hvcl95IjogMS41fX0sIHsiZ2VvbWV0cnkiOiB7InR5cGUiOiAiTGluZVN0cmluZyIs\n",
       "ICJjb29yZGluYXRlcyI6IFtbLTczLjk0NDA5OSwgNDAuNjU1ODIzXV19LCAidHlwZSI6ICJGZWF0\n",
       "dXJlIiwgInByb3BlcnRpZXMiOiB7ImNvbG9yIjogIiM3RjAwMDAiLCAib3BhY2l0eSI6IDEsICJ3\n",
       "ZWlnaHQiOiAxLjB9fSwgeyJnZW9tZXRyeSI6IHsidHlwZSI6ICJQb2ludCIsICJjb29yZGluYXRl\n",
       "cyI6IFstNzMuOTQ0MDk5LCA0MC42NTU4MjNdfSwgInR5cGUiOiAiRmVhdHVyZSIsICJwcm9wZXJ0\n",
       "aWVzIjogeyJhbmNob3JfeCI6IDEuNSwgImh0bWwiOiAiPHN2ZyB3aWR0aD1cIjNweFwiIGhlaWdo\n",
       "dD1cIjNweFwiIHZpZXdCb3g9XCItMS41IC0xLjUgMy4wIDMuMFwiIHhtbG5zPVwiaHR0cDovL3d3\n",
       "dy53My5vcmcvMjAwMC9zdmdcIiB2ZXJzaW9uPVwiMS4xXCI+ICA8cGF0aCBkPVwiTSAwLjAgLTEu\n",
       "MCBDIDAuMjY1MjAzMSAtMS4wIDAuNTE5NTc5ODcwNzg1IC0wLjg5NDYzMzY5MTU4OCAwLjcwNzEw\n",
       "Njc4MTE4NyAtMC43MDcxMDY3ODExODcgQyAwLjg5NDYzMzY5MTU4OCAtMC41MTk1Nzk4NzA3ODUg\n",
       "MS4wIC0wLjI2NTIwMzEgMS4wIC0wLjAgQyAxLjAgMC4yNjUyMDMxIDAuODk0NjMzNjkxNTg4IDAu\n",
       "NTE5NTc5ODcwNzg1IDAuNzA3MTA2NzgxMTg3IDAuNzA3MTA2NzgxMTg3IEMgMC41MTk1Nzk4NzA3\n",
       "ODUgMC44OTQ2MzM2OTE1ODggMC4yNjUyMDMxIDEuMCAwLjAgMS4wIEMgLTAuMjY1MjAzMSAxLjAg\n",
       "LTAuNTE5NTc5ODcwNzg1IDAuODk0NjMzNjkxNTg4IC0wLjcwNzEwNjc4MTE4NyAwLjcwNzEwNjc4\n",
       "MTE4NyBDIC0wLjg5NDYzMzY5MTU4OCAwLjUxOTU3OTg3MDc4NSAtMS4wIDAuMjY1MjAzMSAtMS4w\n",
       "IC0wLjAgQyAtMS4wIC0wLjI2NTIwMzEgLTAuODk0NjMzNjkxNTg4IC0wLjUxOTU3OTg3MDc4NSAt\n",
       "MC43MDcxMDY3ODExODcgLTAuNzA3MTA2NzgxMTg3IEMgLTAuNTE5NTc5ODcwNzg1IC0wLjg5NDYz\n",
       "MzY5MTU4OCAtMC4yNjUyMDMxIC0xLjAgMC4wIC0xLjAgWlwiIGZpbGwtb3BhY2l0eT1cIjFcIiBz\n",
       "dHJva2U9XCIjMDAwMDAwXCIgc3Ryb2tlLXdpZHRoPVwiMC41XCIgc3Ryb2tlLW9wYWNpdHk9XCIx\n",
       "XCIgZmlsbD1cIiM3RjAwMDBcIiAvPjwvc3ZnPiIsICJhbmNob3JfeSI6IDEuNX19XX07CgppZiAo\n",
       "Z2pEYXRhLmZlYXR1cmVzLmxlbmd0aCAhPSAwKSB7CiAgdmFyIGdqID0gTC5nZW9Kc29uKGdqRGF0\n",
       "YSwgewogICAgc3R5bGU6IGZ1bmN0aW9uIChmZWF0dXJlKSB7CiAgICAgIHJldHVybiBmZWF0dXJl\n",
       "LnByb3BlcnRpZXM7CiAgICB9LAogICAgcG9pbnRUb0xheWVyOiBmdW5jdGlvbiAoZmVhdHVyZSwg\n",
       "bGF0bG5nKSB7CiAgICAgIHZhciBpY29uID0gTC5kaXZJY29uKHsnaHRtbCc6IGZlYXR1cmUucHJv\n",
       "cGVydGllcy5odG1sLCAKICAgICAgICBpY29uQW5jaG9yOiBbZmVhdHVyZS5wcm9wZXJ0aWVzLmFu\n",
       "Y2hvcl94LCAKICAgICAgICAgICAgICAgICAgICAgZmVhdHVyZS5wcm9wZXJ0aWVzLmFuY2hvcl95\n",
       "XSwgCiAgICAgICAgICBjbGFzc05hbWU6ICdlbXB0eSd9KTsgIC8vIFdoYXQgY2FuIEkgZG8gYWJv\n",
       "dXQgZW1wdHk/CiAgICAgIHJldHVybiBMLm1hcmtlcihsYXRsbmcsIHtpY29uOiBpY29ufSk7CiAg\n",
       "ICB9CiAgfSk7CiAgZ2ouYWRkVG8obWFwKTsKICAKICBtYXAuZml0Qm91bmRzKGdqLmdldEJvdW5k\n",
       "cygpKTsKfSBlbHNlIHsKICBtYXAuc2V0VmlldyhbMCwgMF0sIDEpOwp9Cjwvc2NyaXB0Pgo8L2Jv\n",
       "ZHk+\n",
       "\" width=\"100%\" height=\"240\"></iframe>"
      ],
      "text/plain": [
       "<IPython.core.display.HTML object>"
      ]
     },
     "execution_count": 12,
     "metadata": {},
     "output_type": "execute_result"
    }
   ],
   "source": [
    "ax=all_facilities.plot()\n",
    "mplleaflet.display(fig=ax.figure, crs=zips.crs, tiles='cartodb_positron')"
   ]
  },
  {
   "cell_type": "markdown",
   "metadata": {},
   "source": [
    "## Task 2"
   ]
  },
  {
   "cell_type": "code",
   "execution_count": 13,
   "metadata": {
    "collapsed": false
   },
   "outputs": [
    {
     "data": {
      "text/plain": [
       "'(10461, 10467, 10451, 10457, 11203)'"
      ]
     },
     "execution_count": 13,
     "metadata": {},
     "output_type": "execute_result"
    }
   ],
   "source": [
    "zipcodes = str(tuple(all_facilities.facility_zip_code.tolist()))\n",
    "zipcodes"
   ]
  },
  {
   "cell_type": "code",
   "execution_count": 14,
   "metadata": {
    "collapsed": true
   },
   "outputs": [],
   "source": [
    "select_highwayQuery = '''\n",
    "SELECT *\n",
    "FROM nyc_zipcode_highway\n",
    "WHERE zipcode in %s\n",
    "''' % zipcodes\n",
    "\n",
    "all_highwayQuery = '''\n",
    "SELECT *\n",
    "FROM nyc_zipcode_highway\n",
    "'''"
   ]
  },
  {
   "cell_type": "code",
   "execution_count": 15,
   "metadata": {
    "collapsed": true
   },
   "outputs": [],
   "source": [
    "top5zipStream = queryCartoDB(query=select_highwayQuery, format='GeoJSON')\n",
    "top5zipdata = json.loads(top5zipStream.read())\n",
    "top5zips = gpd.GeoDataFrame.from_features(top5zipdata['features'])"
   ]
  },
  {
   "cell_type": "markdown",
   "metadata": {},
   "source": [
    "* answer for T2, part 1"
   ]
  },
  {
   "cell_type": "code",
   "execution_count": 16,
   "metadata": {
    "collapsed": false
   },
   "outputs": [
    {
     "data": {
      "text/html": [
       "<div>\n",
       "<table border=\"1\" class=\"dataframe\">\n",
       "  <thead>\n",
       "    <tr style=\"text-align: right;\">\n",
       "      <th></th>\n",
       "      <th>cartodb_id</th>\n",
       "      <th>geometry</th>\n",
       "      <th>highway_length</th>\n",
       "      <th>zipcode</th>\n",
       "    </tr>\n",
       "  </thead>\n",
       "  <tbody>\n",
       "    <tr>\n",
       "      <th>0</th>\n",
       "      <td>106</td>\n",
       "      <td>(POLYGON ((-73.863293 40.89529, -73.862875 40....</td>\n",
       "      <td>19.172015</td>\n",
       "      <td>10467</td>\n",
       "    </tr>\n",
       "    <tr>\n",
       "      <th>1</th>\n",
       "      <td>111</td>\n",
       "      <td>(POLYGON ((-73.931681 40.807955, -73.931704 40...</td>\n",
       "      <td>7.914185</td>\n",
       "      <td>10451</td>\n",
       "    </tr>\n",
       "    <tr>\n",
       "      <th>2</th>\n",
       "      <td>123</td>\n",
       "      <td>(POLYGON ((-73.897516 40.856183, -73.896533000...</td>\n",
       "      <td>5.017199</td>\n",
       "      <td>10457</td>\n",
       "    </tr>\n",
       "    <tr>\n",
       "      <th>3</th>\n",
       "      <td>125</td>\n",
       "      <td>(POLYGON ((-73.82612399999999 40.834214, -73.8...</td>\n",
       "      <td>18.102258</td>\n",
       "      <td>10461</td>\n",
       "    </tr>\n",
       "    <tr>\n",
       "      <th>4</th>\n",
       "      <td>195</td>\n",
       "      <td>(POLYGON ((-73.942503 40.638965, -73.943986 40...</td>\n",
       "      <td>2.212840</td>\n",
       "      <td>11203</td>\n",
       "    </tr>\n",
       "  </tbody>\n",
       "</table>\n",
       "</div>"
      ],
      "text/plain": [
       "   cartodb_id                                           geometry  \\\n",
       "0         106  (POLYGON ((-73.863293 40.89529, -73.862875 40....   \n",
       "1         111  (POLYGON ((-73.931681 40.807955, -73.931704 40...   \n",
       "2         123  (POLYGON ((-73.897516 40.856183, -73.896533000...   \n",
       "3         125  (POLYGON ((-73.82612399999999 40.834214, -73.8...   \n",
       "4         195  (POLYGON ((-73.942503 40.638965, -73.943986 40...   \n",
       "\n",
       "   highway_length  zipcode  \n",
       "0       19.172015    10467  \n",
       "1        7.914185    10451  \n",
       "2        5.017199    10457  \n",
       "3       18.102258    10461  \n",
       "4        2.212840    11203  "
      ]
     },
     "execution_count": 16,
     "metadata": {},
     "output_type": "execute_result"
    }
   ],
   "source": [
    "top5zips"
   ]
  },
  {
   "cell_type": "code",
   "execution_count": 17,
   "metadata": {
    "collapsed": true
   },
   "outputs": [],
   "source": [
    "ziphighStream = queryCartoDB(query=all_highwayQuery, format='GeoJSON')\n",
    "ziphighdata = json.loads(ziphighStream.read())\n",
    "ziphigh= gpd.GeoDataFrame.from_features(ziphighdata['features'])"
   ]
  },
  {
   "cell_type": "code",
   "execution_count": 18,
   "metadata": {
    "collapsed": false
   },
   "outputs": [],
   "source": [
    "top5zips.crs= {'init':'epsg:4326', 'no_defs':True}\n",
    "ziphigh.crs={'init':'epsg:4326', 'no_defs':True}\n",
    "top5zips.to_crs(zips.crs, inplace=1)\n",
    "ziphigh.to_crs(zips.crs, inplace=1)"
   ]
  },
  {
   "cell_type": "code",
   "execution_count": 19,
   "metadata": {
    "collapsed": false,
    "scrolled": false
   },
   "outputs": [
    {
     "data": {
      "text/plain": [
       "<matplotlib.text.Text at 0x10ea7ab50>"
      ]
     },
     "execution_count": 19,
     "metadata": {},
     "output_type": "execute_result"
    },
    {
     "data": {
      "image/png": "[encoded data removed]",
      "text/plain": [
       "<matplotlib.figure.Figure at 0x10ea36110>"
      ]
     },
     "metadata": {},
     "output_type": "display_data"
    }
   ],
   "source": [
    "fig,ax = plt.subplots(figsize=(8,8))\n",
    "top5zips.plot(ax=ax,alpha=1,color='b',linewidth=0)\n",
    "zips.plot(ax=ax,alpha=0,linewidth=0.5)\n",
    "ax.set_axis_off()\n",
    "ax.set_title('Zipcode with top 5 asthma-diagnozing facilities')"
   ]
  },
  {
   "cell_type": "code",
   "execution_count": 20,
   "metadata": {
    "collapsed": false
   },
   "outputs": [
    {
     "data": {
      "text/plain": [
       "<bound method AxesSubplot.set_axis_off of <matplotlib.axes._subplots.AxesSubplot object at 0x10e7734d0>>"
      ]
     },
     "execution_count": 20,
     "metadata": {},
     "output_type": "execute_result"
    },
    {
     "data": {
      "image/png": "[encoded data removed]",
      "text/plain": [
       "<matplotlib.figure.Figure at 0x10e773550>"
      ]
     },
     "metadata": {},
     "output_type": "display_data"
    }
   ],
   "source": [
    "f, ax = plt.subplots(figsize=(8,8))\n",
    "\n",
    "ziphigh.plot(column='highway_length',linewidth=0.1,ax=ax,scheme='equal_interval',alpha=1,legend=True,k=8)\n",
    "ax.set_title('Total Highway length per zipcode')\n",
    "ax.set_axis_off"
   ]
  },
  {
   "cell_type": "markdown",
   "metadata": {},
   "source": [
    "## Task 5"
   ]
  },
  {
   "cell_type": "markdown",
   "metadata": {},
   "source": [
    "#### NOTICE: this dataset takes a few minutes"
   ]
  },
  {
   "cell_type": "code",
   "execution_count": 23,
   "metadata": {
    "collapsed": true
   },
   "outputs": [],
   "source": [
    "source = 'http://data.cityofnewyork.us/api/views/3rfa-3xsf/rows.csv?accessType=DOWNLOAD'"
   ]
  },
  {
   "cell_type": "code",
   "execution_count": 24,
   "metadata": {
    "collapsed": false
   },
   "outputs": [
    {
     "name": "stderr",
     "output_type": "stream",
     "text": [
      "//anaconda/lib/python2.7/site-packages/IPython/core/interactiveshell.py:2902: DtypeWarning: Columns (8,13,14,17,18,20,37,38,39,40,41,42,43,44,45,46,47,48) have mixed types. Specify dtype option on import or set low_memory=False.\n",
      "  interactivity=interactivity, compiler=compiler, result=result)\n"
     ]
    }
   ],
   "source": [
    "call311 = pd.read_csv(source, header=0)"
   ]
  },
  {
   "cell_type": "code",
   "execution_count": null,
   "metadata": {
    "collapsed": false
   },
   "outputs": [],
   "source": [
    "#col=asthma311.columns\n",
    "#idx = asthma311['Incident Zip'].values\n",
    "# asthma = pd.DataFrame(asthma311,index=idx)"
   ]
  },
  {
   "cell_type": "code",
   "execution_count": 25,
   "metadata": {
    "collapsed": false
   },
   "outputs": [],
   "source": [
    "call311 = call311[['Unique Key','Complaint Type','Location Type','Incident Zip','Latitude','Longitude','Location']]"
   ]
  },
  {
   "cell_type": "markdown",
   "metadata": {},
   "source": [
    "you can aggregate the 311 calls at the zip code level directly (the zip code is available in the 311 calls data for every call).\n",
    "some of the 311 calls may be directly related to asthma cases: complaints about construction, unsanitary conditions, mold, while others may not (illegally parked cars for example). This is a list of call descriptions which we considered relevant. You can modify this list as you see fit. But you must justify your choice of relevant complaints.\n",
    "\n",
    "Because complaints to 311 are issued at a different rate in different city areas (due to various reasons including a strong social bias by which wealthier people are generally more engaged and more likely to call) you must normalize the number of relevant calls (calls for one of the reasons in your list) by the total number of calls for that zip code (divide the number of relevant calls by the total number of calls) (normalize = divide)"
   ]
  },
  {
   "cell_type": "code",
   "execution_count": 26,
   "metadata": {
    "collapsed": false,
    "scrolled": true
   },
   "outputs": [],
   "source": [
    "# normalize 311data (divide #relevant calls by the total #calls)\n",
    "totalcallZip = call311['Incident Zip'].value_counts()\n",
    "totalZip = totalcallZip.reset_index().rename(columns={'Incident Zip':'Total calls'})"
   ]
  },
  {
   "cell_type": "code",
   "execution_count": 27,
   "metadata": {
    "collapsed": false
   },
   "outputs": [
    {
     "data": {
      "text/html": [
       "<div>\n",
       "<table border=\"1\" class=\"dataframe\">\n",
       "  <thead>\n",
       "    <tr style=\"text-align: right;\">\n",
       "      <th></th>\n",
       "      <th>index</th>\n",
       "      <th>Total calls</th>\n",
       "    </tr>\n",
       "  </thead>\n",
       "  <tbody>\n",
       "    <tr>\n",
       "      <th>0</th>\n",
       "      <td>11226</td>\n",
       "      <td>27141</td>\n",
       "    </tr>\n",
       "    <tr>\n",
       "      <th>1</th>\n",
       "      <td>10458</td>\n",
       "      <td>22147</td>\n",
       "    </tr>\n",
       "    <tr>\n",
       "      <th>2</th>\n",
       "      <td>10467</td>\n",
       "      <td>22088</td>\n",
       "    </tr>\n",
       "    <tr>\n",
       "      <th>3</th>\n",
       "      <td>10457</td>\n",
       "      <td>20099</td>\n",
       "    </tr>\n",
       "    <tr>\n",
       "      <th>4</th>\n",
       "      <td>11207</td>\n",
       "      <td>20092</td>\n",
       "    </tr>\n",
       "  </tbody>\n",
       "</table>\n",
       "</div>"
      ],
      "text/plain": [
       "   index  Total calls\n",
       "0  11226        27141\n",
       "1  10458        22147\n",
       "2  10467        22088\n",
       "3  10457        20099\n",
       "4  11207        20092"
      ]
     },
     "execution_count": 27,
     "metadata": {},
     "output_type": "execute_result"
    }
   ],
   "source": [
    "totalZip.head()"
   ]
  },
  {
   "cell_type": "code",
   "execution_count": 28,
   "metadata": {
    "collapsed": true
   },
   "outputs": [],
   "source": [
    "conditions = ['UNSANITARY CONDITION','Dirty Conditions', 'Sewer',\n",
    "               'Hazardous Material','Construction',\n",
    "               'Indoor Air Quality','Indoor Sewage','Air Quality',\n",
    "               'HEATING','Industrial Waste','Mold','Asbestos',\n",
    "               'Sweeping/Missed-Inadequate','Smoking',\n",
    "               'Non-Residential Heat','Lead','Standing Water',\n",
    "                'Water Quality','Unsanitary Animal Facility',\n",
    "               'PAINT - PLASTER ','GENERAL CONSTRUCTION',\n",
    "             ]"
   ]
  },
  {
   "cell_type": "code",
   "execution_count": 29,
   "metadata": {
    "collapsed": true
   },
   "outputs": [],
   "source": [
    "asthma311 = call311[call311['Complaint Type'].isin(conditions)]"
   ]
  },
  {
   "cell_type": "code",
   "execution_count": 30,
   "metadata": {
    "collapsed": true
   },
   "outputs": [],
   "source": [
    "asthmacallZip = asthma311['Incident Zip'].value_counts()\n",
    "asthmaZip = asthmacallZip.reset_index().rename(columns={'Incident Zip':'Total calls'})"
   ]
  },
  {
   "cell_type": "code",
   "execution_count": 31,
   "metadata": {
    "collapsed": false
   },
   "outputs": [
    {
     "data": {
      "text/html": [
       "<div>\n",
       "<table border=\"1\" class=\"dataframe\">\n",
       "  <thead>\n",
       "    <tr style=\"text-align: right;\">\n",
       "      <th></th>\n",
       "      <th>index</th>\n",
       "      <th>Total calls</th>\n",
       "    </tr>\n",
       "  </thead>\n",
       "  <tbody>\n",
       "    <tr>\n",
       "      <th>0</th>\n",
       "      <td>11226</td>\n",
       "      <td>10116</td>\n",
       "    </tr>\n",
       "    <tr>\n",
       "      <th>1</th>\n",
       "      <td>10458</td>\n",
       "      <td>9373</td>\n",
       "    </tr>\n",
       "    <tr>\n",
       "      <th>2</th>\n",
       "      <td>10467</td>\n",
       "      <td>8255</td>\n",
       "    </tr>\n",
       "    <tr>\n",
       "      <th>3</th>\n",
       "      <td>10453</td>\n",
       "      <td>8066</td>\n",
       "    </tr>\n",
       "    <tr>\n",
       "      <th>4</th>\n",
       "      <td>10457</td>\n",
       "      <td>7972</td>\n",
       "    </tr>\n",
       "  </tbody>\n",
       "</table>\n",
       "</div>"
      ],
      "text/plain": [
       "   index  Total calls\n",
       "0  11226        10116\n",
       "1  10458         9373\n",
       "2  10467         8255\n",
       "3  10453         8066\n",
       "4  10457         7972"
      ]
     },
     "execution_count": 31,
     "metadata": {},
     "output_type": "execute_result"
    }
   ],
   "source": [
    "asthmaZip.head()"
   ]
  },
  {
   "cell_type": "code",
   "execution_count": 32,
   "metadata": {
    "collapsed": true
   },
   "outputs": [],
   "source": [
    "asthma = totalZip.merge(asthmaZip,how='left',on='index')"
   ]
  },
  {
   "cell_type": "code",
   "execution_count": 33,
   "metadata": {
    "collapsed": false
   },
   "outputs": [
    {
     "data": {
      "text/html": [
       "<div>\n",
       "<table border=\"1\" class=\"dataframe\">\n",
       "  <thead>\n",
       "    <tr style=\"text-align: right;\">\n",
       "      <th></th>\n",
       "      <th>zipcode</th>\n",
       "      <th>totalCall</th>\n",
       "      <th>asthmaCall</th>\n",
       "    </tr>\n",
       "  </thead>\n",
       "  <tbody>\n",
       "    <tr>\n",
       "      <th>0</th>\n",
       "      <td>11226</td>\n",
       "      <td>27141</td>\n",
       "      <td>10116</td>\n",
       "    </tr>\n",
       "    <tr>\n",
       "      <th>1</th>\n",
       "      <td>10458</td>\n",
       "      <td>22147</td>\n",
       "      <td>9373</td>\n",
       "    </tr>\n",
       "    <tr>\n",
       "      <th>2</th>\n",
       "      <td>10467</td>\n",
       "      <td>22088</td>\n",
       "      <td>8255</td>\n",
       "    </tr>\n",
       "    <tr>\n",
       "      <th>3</th>\n",
       "      <td>10457</td>\n",
       "      <td>20099</td>\n",
       "      <td>7972</td>\n",
       "    </tr>\n",
       "    <tr>\n",
       "      <th>4</th>\n",
       "      <td>11207</td>\n",
       "      <td>20092</td>\n",
       "      <td>5618</td>\n",
       "    </tr>\n",
       "  </tbody>\n",
       "</table>\n",
       "</div>"
      ],
      "text/plain": [
       "  zipcode  totalCall  asthmaCall\n",
       "0   11226      27141       10116\n",
       "1   10458      22147        9373\n",
       "2   10467      22088        8255\n",
       "3   10457      20099        7972\n",
       "4   11207      20092        5618"
      ]
     },
     "execution_count": 33,
     "metadata": {},
     "output_type": "execute_result"
    }
   ],
   "source": [
    "asthma.columns=['zipcode','totalCall','asthmaCall']\n",
    "asthma.head()"
   ]
  },
  {
   "cell_type": "code",
   "execution_count": 34,
   "metadata": {
    "collapsed": false
   },
   "outputs": [
    {
     "data": {
      "text/html": [
       "<div>\n",
       "<table border=\"1\" class=\"dataframe\">\n",
       "  <thead>\n",
       "    <tr style=\"text-align: right;\">\n",
       "      <th></th>\n",
       "      <th>zipcode</th>\n",
       "      <th>totalCall</th>\n",
       "      <th>asthmaCall</th>\n",
       "      <th>asthNorm</th>\n",
       "    </tr>\n",
       "  </thead>\n",
       "  <tbody>\n",
       "    <tr>\n",
       "      <th>0</th>\n",
       "      <td>11226</td>\n",
       "      <td>27141</td>\n",
       "      <td>10116</td>\n",
       "      <td>0.372720</td>\n",
       "    </tr>\n",
       "    <tr>\n",
       "      <th>1</th>\n",
       "      <td>10458</td>\n",
       "      <td>22147</td>\n",
       "      <td>9373</td>\n",
       "      <td>0.423218</td>\n",
       "    </tr>\n",
       "    <tr>\n",
       "      <th>2</th>\n",
       "      <td>10467</td>\n",
       "      <td>22088</td>\n",
       "      <td>8255</td>\n",
       "      <td>0.373732</td>\n",
       "    </tr>\n",
       "    <tr>\n",
       "      <th>3</th>\n",
       "      <td>10457</td>\n",
       "      <td>20099</td>\n",
       "      <td>7972</td>\n",
       "      <td>0.396637</td>\n",
       "    </tr>\n",
       "    <tr>\n",
       "      <th>4</th>\n",
       "      <td>11207</td>\n",
       "      <td>20092</td>\n",
       "      <td>5618</td>\n",
       "      <td>0.279614</td>\n",
       "    </tr>\n",
       "  </tbody>\n",
       "</table>\n",
       "</div>"
      ],
      "text/plain": [
       "  zipcode  totalCall  asthmaCall  asthNorm\n",
       "0   11226      27141       10116  0.372720\n",
       "1   10458      22147        9373  0.423218\n",
       "2   10467      22088        8255  0.373732\n",
       "3   10457      20099        7972  0.396637\n",
       "4   11207      20092        5618  0.279614"
      ]
     },
     "execution_count": 34,
     "metadata": {},
     "output_type": "execute_result"
    }
   ],
   "source": [
    "# normalize the data\n",
    "asthma['asthNorm'] = asthma.asthmaCall/asthma.totalCall\n",
    "asthma.head()"
   ]
  },
  {
   "cell_type": "code",
   "execution_count": 35,
   "metadata": {
    "collapsed": false
   },
   "outputs": [
    {
     "data": {
      "text/html": [
       "<div>\n",
       "<table border=\"1\" class=\"dataframe\">\n",
       "  <thead>\n",
       "    <tr style=\"text-align: right;\">\n",
       "      <th></th>\n",
       "      <th>cartodb_id</th>\n",
       "      <th>geometry</th>\n",
       "      <th>highway_length</th>\n",
       "      <th>zipcode</th>\n",
       "      <th>asthNorm</th>\n",
       "    </tr>\n",
       "  </thead>\n",
       "  <tbody>\n",
       "    <tr>\n",
       "      <th>0</th>\n",
       "      <td>106</td>\n",
       "      <td>(POLYGON ((-73.863293 40.89529, -73.862875 40....</td>\n",
       "      <td>19.172015</td>\n",
       "      <td>10467</td>\n",
       "      <td>0.522590</td>\n",
       "    </tr>\n",
       "    <tr>\n",
       "      <th>1</th>\n",
       "      <td>111</td>\n",
       "      <td>(POLYGON ((-73.931681 40.807955, -73.931704 40...</td>\n",
       "      <td>7.914185</td>\n",
       "      <td>10451</td>\n",
       "      <td>0.505349</td>\n",
       "    </tr>\n",
       "    <tr>\n",
       "      <th>2</th>\n",
       "      <td>123</td>\n",
       "      <td>(POLYGON ((-73.897516 40.85618300000001, -73.8...</td>\n",
       "      <td>5.017199</td>\n",
       "      <td>10457</td>\n",
       "      <td>0.506032</td>\n",
       "    </tr>\n",
       "    <tr>\n",
       "      <th>3</th>\n",
       "      <td>125</td>\n",
       "      <td>(POLYGON ((-73.82612399999999 40.834214, -73.8...</td>\n",
       "      <td>18.102258</td>\n",
       "      <td>10461</td>\n",
       "      <td>0.417339</td>\n",
       "    </tr>\n",
       "    <tr>\n",
       "      <th>4</th>\n",
       "      <td>195</td>\n",
       "      <td>(POLYGON ((-73.942503 40.638965, -73.943986 40...</td>\n",
       "      <td>2.212840</td>\n",
       "      <td>11203</td>\n",
       "      <td>0.459787</td>\n",
       "    </tr>\n",
       "  </tbody>\n",
       "</table>\n",
       "</div>"
      ],
      "text/plain": [
       "   cartodb_id                                           geometry  \\\n",
       "0         106  (POLYGON ((-73.863293 40.89529, -73.862875 40....   \n",
       "1         111  (POLYGON ((-73.931681 40.807955, -73.931704 40...   \n",
       "2         123  (POLYGON ((-73.897516 40.85618300000001, -73.8...   \n",
       "3         125  (POLYGON ((-73.82612399999999 40.834214, -73.8...   \n",
       "4         195  (POLYGON ((-73.942503 40.638965, -73.943986 40...   \n",
       "\n",
       "   highway_length  zipcode  asthNorm  \n",
       "0       19.172015    10467  0.522590  \n",
       "1        7.914185    10451  0.505349  \n",
       "2        5.017199    10457  0.506032  \n",
       "3       18.102258    10461  0.417339  \n",
       "4        2.212840    11203  0.459787  "
      ]
     },
     "execution_count": 35,
     "metadata": {},
     "output_type": "execute_result"
    }
   ],
   "source": [
    "top5zips_new = top5zips.merge(asthma[['zipcode','asthNorm']],how='left',on='zipcode')\n",
    "top5zips_new.head()"
   ]
  },
  {
   "cell_type": "code",
   "execution_count": 36,
   "metadata": {
    "collapsed": false
   },
   "outputs": [
    {
     "data": {
      "text/html": [
       "<div>\n",
       "<table border=\"1\" class=\"dataframe\">\n",
       "  <thead>\n",
       "    <tr style=\"text-align: right;\">\n",
       "      <th></th>\n",
       "      <th>cartodb_id</th>\n",
       "      <th>geometry</th>\n",
       "      <th>highway_length</th>\n",
       "      <th>zipcode</th>\n",
       "      <th>asthNorm</th>\n",
       "    </tr>\n",
       "  </thead>\n",
       "  <tbody>\n",
       "    <tr>\n",
       "      <th>0</th>\n",
       "      <td>1</td>\n",
       "      <td>(POLYGON ((-74.194287 40.608911, -74.194929 40...</td>\n",
       "      <td>23.486470</td>\n",
       "      <td>10314</td>\n",
       "      <td>0.138223</td>\n",
       "    </tr>\n",
       "    <tr>\n",
       "      <th>1</th>\n",
       "      <td>2</td>\n",
       "      <td>(POLYGON ((-73.980886 40.75927, -73.9804259999...</td>\n",
       "      <td>0.000000</td>\n",
       "      <td>10112</td>\n",
       "      <td>0.000000</td>\n",
       "    </tr>\n",
       "    <tr>\n",
       "      <th>2</th>\n",
       "      <td>3</td>\n",
       "      <td>(POLYGON ((-74.011674 40.709687, -74.012646 40...</td>\n",
       "      <td>1.447405</td>\n",
       "      <td>10048</td>\n",
       "      <td>0.000000</td>\n",
       "    </tr>\n",
       "    <tr>\n",
       "      <th>3</th>\n",
       "      <td>4</td>\n",
       "      <td>(POLYGON ((-73.97282 40.75587, -73.973276 40.7...</td>\n",
       "      <td>0.000000</td>\n",
       "      <td>10171</td>\n",
       "      <td>0.000000</td>\n",
       "    </tr>\n",
       "    <tr>\n",
       "      <th>4</th>\n",
       "      <td>5</td>\n",
       "      <td>(POLYGON ((-73.973735 40.754619, -73.975352 40...</td>\n",
       "      <td>0.000000</td>\n",
       "      <td>10172</td>\n",
       "      <td>0.000000</td>\n",
       "    </tr>\n",
       "  </tbody>\n",
       "</table>\n",
       "</div>"
      ],
      "text/plain": [
       "   cartodb_id                                           geometry  \\\n",
       "0           1  (POLYGON ((-74.194287 40.608911, -74.194929 40...   \n",
       "1           2  (POLYGON ((-73.980886 40.75927, -73.9804259999...   \n",
       "2           3  (POLYGON ((-74.011674 40.709687, -74.012646 40...   \n",
       "3           4  (POLYGON ((-73.97282 40.75587, -73.973276 40.7...   \n",
       "4           5  (POLYGON ((-73.973735 40.754619, -73.975352 40...   \n",
       "\n",
       "   highway_length  zipcode  asthNorm  \n",
       "0       23.486470    10314  0.138223  \n",
       "1        0.000000    10112  0.000000  \n",
       "2        1.447405    10048  0.000000  \n",
       "3        0.000000    10171  0.000000  \n",
       "4        0.000000    10172  0.000000  "
      ]
     },
     "execution_count": 36,
     "metadata": {},
     "output_type": "execute_result"
    }
   ],
   "source": [
    "ziphigh_new = ziphigh.merge(asthma[['zipcode','asthNorm']],how='left',on='zipcode')\n",
    "ziphigh_new.fillna(0,inplace=1)\n",
    "ziphigh_new.head()"
   ]
  },
  {
   "cell_type": "code",
   "execution_count": 37,
   "metadata": {
    "collapsed": true
   },
   "outputs": [],
   "source": [
    "ziphigh_new.crs = {'init': 'epsg:4326', 'no_defs': True}\n",
    "ziphigh_new.to_crs(zips.crs, inplace=1)"
   ]
  },
  {
   "cell_type": "code",
   "execution_count": 38,
   "metadata": {
    "collapsed": false,
    "scrolled": true
   },
   "outputs": [
    {
     "data": {
      "text/plain": [
       "<bound method AxesSubplot.set_axis_off of <matplotlib.axes._subplots.AxesSubplot object at 0x142615a50>>"
      ]
     },
     "execution_count": 38,
     "metadata": {},
     "output_type": "execute_result"
    },
    {
     "data": {
      "image/png": "[encoded data removed]",
      "text/plain": [
       "<matplotlib.figure.Figure at 0x146d7ee90>"
      ]
     },
     "metadata": {},
     "output_type": "display_data"
    }
   ],
   "source": [
    "f, ax = plt.subplots(figsize=(8,8))\n",
    "\n",
    "ziphigh_new.plot(column='asthNorm',linewidth=0.1,ax=ax,alpha=1,legend=True,k=8,scheme='equal_interval')\n",
    "ax.set_title('Normalized Asthma-related 311 calls per zipcode ')\n",
    "ax.set_axis_off"
   ]
  },
  {
   "cell_type": "code",
   "execution_count": null,
   "metadata": {
    "collapsed": true
   },
   "outputs": [],
   "source": []
  },
  {
   "cell_type": "code",
   "execution_count": null,
   "metadata": {
    "collapsed": true
   },
   "outputs": [],
   "source": []
  },
  {
   "cell_type": "markdown",
   "metadata": {
    "collapsed": true
   },
   "source": [
    "## Task 6"
   ]
  },
  {
   "cell_type": "code",
   "execution_count": 39,
   "metadata": {
    "collapsed": false
   },
   "outputs": [
    {
     "data": {
      "text/html": [
       "<div>\n",
       "<table border=\"1\" class=\"dataframe\">\n",
       "  <thead>\n",
       "    <tr style=\"text-align: right;\">\n",
       "      <th></th>\n",
       "      <th>facility_id</th>\n",
       "      <th>zipcode</th>\n",
       "      <th>count</th>\n",
       "      <th>facility_name</th>\n",
       "    </tr>\n",
       "  </thead>\n",
       "  <tbody>\n",
       "    <tr>\n",
       "      <th>0</th>\n",
       "      <td>1165</td>\n",
       "      <td>10461</td>\n",
       "      <td>920</td>\n",
       "      <td>Jacobi Medical Center</td>\n",
       "    </tr>\n",
       "    <tr>\n",
       "      <th>1</th>\n",
       "      <td>1169</td>\n",
       "      <td>10467</td>\n",
       "      <td>1786</td>\n",
       "      <td>Montefiore Medical Center - Henry &amp; Lucy Moses...</td>\n",
       "    </tr>\n",
       "    <tr>\n",
       "      <th>2</th>\n",
       "      <td>1172</td>\n",
       "      <td>10451</td>\n",
       "      <td>1878</td>\n",
       "      <td>Lincoln Medical &amp; Mental Health Center</td>\n",
       "    </tr>\n",
       "    <tr>\n",
       "      <th>3</th>\n",
       "      <td>1178</td>\n",
       "      <td>10457</td>\n",
       "      <td>890</td>\n",
       "      <td>Bronx-Lebanon Hospital Center - Concourse Divi...</td>\n",
       "    </tr>\n",
       "    <tr>\n",
       "      <th>4</th>\n",
       "      <td>1301</td>\n",
       "      <td>11203</td>\n",
       "      <td>1057</td>\n",
       "      <td>Kings County Hospital Center</td>\n",
       "    </tr>\n",
       "  </tbody>\n",
       "</table>\n",
       "</div>"
      ],
      "text/plain": [
       "   facility_id  zipcode  count  \\\n",
       "0         1165    10461    920   \n",
       "1         1169    10467   1786   \n",
       "2         1172    10451   1878   \n",
       "3         1178    10457    890   \n",
       "4         1301    11203   1057   \n",
       "\n",
       "                                       facility_name  \n",
       "0                              Jacobi Medical Center  \n",
       "1  Montefiore Medical Center - Henry & Lucy Moses...  \n",
       "2             Lincoln Medical & Mental Health Center  \n",
       "3  Bronx-Lebanon Hospital Center - Concourse Divi...  \n",
       "4                       Kings County Hospital Center  "
      ]
     },
     "execution_count": 39,
     "metadata": {},
     "output_type": "execute_result"
    }
   ],
   "source": [
    "allfac = all_facilities.merge(facilities, how='left', on='facility_id').rename(columns={'facility_zip_code':'zipcode'})\n",
    "# allfac = all_facilities[['facility_id','facility_name', 'count', 'zipcode']]\n",
    "# allfac.head()\n",
    "allfac = allfac[['facility_id','zipcode','count','facility_name']]\n",
    "allfac.head()"
   ]
  },
  {
   "cell_type": "code",
   "execution_count": 40,
   "metadata": {
    "collapsed": false
   },
   "outputs": [
    {
     "data": {
      "text/html": [
       "<div>\n",
       "<table border=\"1\" class=\"dataframe\">\n",
       "  <thead>\n",
       "    <tr style=\"text-align: right;\">\n",
       "      <th></th>\n",
       "      <th>cartodb_id</th>\n",
       "      <th>geometry</th>\n",
       "      <th>highway_length</th>\n",
       "      <th>zipcode</th>\n",
       "      <th>count</th>\n",
       "      <th>norm_311calls</th>\n",
       "    </tr>\n",
       "  </thead>\n",
       "  <tbody>\n",
       "    <tr>\n",
       "      <th>0</th>\n",
       "      <td>106</td>\n",
       "      <td>(POLYGON ((-73.863293 40.89529, -73.862875 40....</td>\n",
       "      <td>19.172015</td>\n",
       "      <td>10467</td>\n",
       "      <td>1786</td>\n",
       "      <td>0.522590</td>\n",
       "    </tr>\n",
       "    <tr>\n",
       "      <th>1</th>\n",
       "      <td>111</td>\n",
       "      <td>(POLYGON ((-73.931681 40.807955, -73.931704 40...</td>\n",
       "      <td>7.914185</td>\n",
       "      <td>10451</td>\n",
       "      <td>1878</td>\n",
       "      <td>0.505349</td>\n",
       "    </tr>\n",
       "    <tr>\n",
       "      <th>2</th>\n",
       "      <td>123</td>\n",
       "      <td>(POLYGON ((-73.897516 40.85618300000001, -73.8...</td>\n",
       "      <td>5.017199</td>\n",
       "      <td>10457</td>\n",
       "      <td>890</td>\n",
       "      <td>0.506032</td>\n",
       "    </tr>\n",
       "    <tr>\n",
       "      <th>3</th>\n",
       "      <td>125</td>\n",
       "      <td>(POLYGON ((-73.82612399999999 40.834214, -73.8...</td>\n",
       "      <td>18.102258</td>\n",
       "      <td>10461</td>\n",
       "      <td>920</td>\n",
       "      <td>0.417339</td>\n",
       "    </tr>\n",
       "    <tr>\n",
       "      <th>4</th>\n",
       "      <td>195</td>\n",
       "      <td>(POLYGON ((-73.942503 40.638965, -73.943986 40...</td>\n",
       "      <td>2.212840</td>\n",
       "      <td>11203</td>\n",
       "      <td>1057</td>\n",
       "      <td>0.459787</td>\n",
       "    </tr>\n",
       "  </tbody>\n",
       "</table>\n",
       "</div>"
      ],
      "text/plain": [
       "   cartodb_id                                           geometry  \\\n",
       "0         106  (POLYGON ((-73.863293 40.89529, -73.862875 40....   \n",
       "1         111  (POLYGON ((-73.931681 40.807955, -73.931704 40...   \n",
       "2         123  (POLYGON ((-73.897516 40.85618300000001, -73.8...   \n",
       "3         125  (POLYGON ((-73.82612399999999 40.834214, -73.8...   \n",
       "4         195  (POLYGON ((-73.942503 40.638965, -73.943986 40...   \n",
       "\n",
       "   highway_length  zipcode  count  norm_311calls  \n",
       "0       19.172015    10467   1786       0.522590  \n",
       "1        7.914185    10451   1878       0.505349  \n",
       "2        5.017199    10457    890       0.506032  \n",
       "3       18.102258    10461    920       0.417339  \n",
       "4        2.212840    11203   1057       0.459787  "
      ]
     },
     "execution_count": 40,
     "metadata": {},
     "output_type": "execute_result"
    }
   ],
   "source": [
    "# combine everything with zipcode\n",
    "high_5zip = top5zips.merge(allfac[['zipcode','count']], how='left', on='zipcode')\n",
    "final5_zip = high_5zip.merge(ziphigh_new[['zipcode','asthNorm']], how='left',on='zipcode')\n",
    "final5_zip.columns=['cartodb_id','geometry','highway_length','zipcode','count','norm_311calls']\n",
    "final5_zip"
   ]
  },
  {
   "cell_type": "code",
   "execution_count": 41,
   "metadata": {
    "collapsed": false
   },
   "outputs": [],
   "source": [
    "dt6 = final5_zip[['count','norm_311calls','highway_length']]\n",
    "dt6 = (dt6 - dt6.mean())/dt6.std()"
   ]
  },
  {
   "cell_type": "markdown",
   "metadata": {
    "collapsed": true
   },
   "source": [
    "* formula = count ~ highway_length + norm_311calls"
   ]
  },
  {
   "cell_type": "code",
   "execution_count": 42,
   "metadata": {
    "collapsed": false,
    "scrolled": true
   },
   "outputs": [
    {
     "name": "stderr",
     "output_type": "stream",
     "text": [
      "//anaconda/lib/python2.7/site-packages/statsmodels/stats/stattools.py:72: UserWarning: omni_normtest is not valid with less than 8 observations; 5 samples were given.\n",
      "  \"samples were given.\" % int(n))\n"
     ]
    },
    {
     "data": {
      "text/html": [
       "<table class=\"simpletable\">\n",
       "<caption>OLS Regression Results</caption>\n",
       "<tr>\n",
       "  <th>Dep. Variable:</th>          <td>count</td>      <th>  R-squared:         </th> <td>   0.525</td>\n",
       "</tr>\n",
       "<tr>\n",
       "  <th>Model:</th>                   <td>OLS</td>       <th>  Adj. R-squared:    </th> <td>   0.051</td>\n",
       "</tr>\n",
       "<tr>\n",
       "  <th>Method:</th>             <td>Least Squares</td>  <th>  F-statistic:       </th> <td>   1.107</td>\n",
       "</tr>\n",
       "<tr>\n",
       "  <th>Date:</th>             <td>Tue, 22 Dec 2015</td> <th>  Prob (F-statistic):</th>  <td> 0.475</td> \n",
       "</tr>\n",
       "<tr>\n",
       "  <th>Time:</th>                 <td>22:35:40</td>     <th>  Log-Likelihood:    </th> <td> -4.6737</td>\n",
       "</tr>\n",
       "<tr>\n",
       "  <th>No. Observations:</th>      <td>     5</td>      <th>  AIC:               </th> <td>   15.35</td>\n",
       "</tr>\n",
       "<tr>\n",
       "  <th>Df Residuals:</th>          <td>     2</td>      <th>  BIC:               </th> <td>   14.18</td>\n",
       "</tr>\n",
       "<tr>\n",
       "  <th>Df Model:</th>              <td>     2</td>      <th>                     </th>     <td> </td>   \n",
       "</tr>\n",
       "<tr>\n",
       "  <th>Covariance Type:</th>      <td>nonrobust</td>    <th>                     </th>     <td> </td>   \n",
       "</tr>\n",
       "</table>\n",
       "<table class=\"simpletable\">\n",
       "<tr>\n",
       "         <td></td>           <th>coef</th>     <th>std err</th>      <th>t</th>      <th>P>|t|</th> <th>[95.0% Conf. Int.]</th> \n",
       "</tr>\n",
       "<tr>\n",
       "  <th>Intercept</th>      <td>-8.327e-17</td> <td>    0.436</td> <td>-1.91e-16</td> <td> 1.000</td> <td>   -1.875     1.875</td>\n",
       "</tr>\n",
       "<tr>\n",
       "  <th>highway_length</th> <td>    0.3480</td> <td>    0.490</td> <td>    0.710</td> <td> 0.551</td> <td>   -1.761     2.457</td>\n",
       "</tr>\n",
       "<tr>\n",
       "  <th>norm_311calls</th>  <td>    0.6755</td> <td>    0.490</td> <td>    1.378</td> <td> 0.302</td> <td>   -1.433     2.785</td>\n",
       "</tr>\n",
       "</table>\n",
       "<table class=\"simpletable\">\n",
       "<tr>\n",
       "  <th>Omnibus:</th>       <td>   nan</td> <th>  Durbin-Watson:     </th> <td>   2.876</td>\n",
       "</tr>\n",
       "<tr>\n",
       "  <th>Prob(Omnibus):</th> <td>   nan</td> <th>  Jarque-Bera (JB):  </th> <td>   0.099</td>\n",
       "</tr>\n",
       "<tr>\n",
       "  <th>Skew:</th>          <td>-0.116</td> <th>  Prob(JB):          </th> <td>   0.952</td>\n",
       "</tr>\n",
       "<tr>\n",
       "  <th>Kurtosis:</th>      <td> 2.352</td> <th>  Cond. No.          </th> <td>    1.19</td>\n",
       "</tr>\n",
       "</table>"
      ],
      "text/plain": [
       "<class 'statsmodels.iolib.summary.Summary'>\n",
       "\"\"\"\n",
       "                            OLS Regression Results                            \n",
       "==============================================================================\n",
       "Dep. Variable:                  count   R-squared:                       0.525\n",
       "Model:                            OLS   Adj. R-squared:                  0.051\n",
       "Method:                 Least Squares   F-statistic:                     1.107\n",
       "Date:                Tue, 22 Dec 2015   Prob (F-statistic):              0.475\n",
       "Time:                        22:35:40   Log-Likelihood:                -4.6737\n",
       "No. Observations:                   5   AIC:                             15.35\n",
       "Df Residuals:                       2   BIC:                             14.18\n",
       "Df Model:                           2                                         \n",
       "Covariance Type:            nonrobust                                         \n",
       "==================================================================================\n",
       "                     coef    std err          t      P>|t|      [95.0% Conf. Int.]\n",
       "----------------------------------------------------------------------------------\n",
       "Intercept      -8.327e-17      0.436  -1.91e-16      1.000        -1.875     1.875\n",
       "highway_length     0.3480      0.490      0.710      0.551        -1.761     2.457\n",
       "norm_311calls      0.6755      0.490      1.378      0.302        -1.433     2.785\n",
       "==============================================================================\n",
       "Omnibus:                          nan   Durbin-Watson:                   2.876\n",
       "Prob(Omnibus):                    nan   Jarque-Bera (JB):                0.099\n",
       "Skew:                          -0.116   Prob(JB):                        0.952\n",
       "Kurtosis:                       2.352   Cond. No.                         1.19\n",
       "==============================================================================\n",
       "\n",
       "Warnings:\n",
       "[1] Standard Errors assume that the covariance matrix of the errors is correctly specified.\n",
       "\"\"\""
      ]
     },
     "execution_count": 42,
     "metadata": {},
     "output_type": "execute_result"
    }
   ],
   "source": [
    "formula1 = 'count ~ highway_length + norm_311calls'\n",
    "lm1 = smf.ols(formula1, dt6, missing='drop').fit()\n",
    "lm1.summary()"
   ]
  },
  {
   "cell_type": "code",
   "execution_count": 43,
   "metadata": {
    "collapsed": false,
    "scrolled": true
   },
   "outputs": [
    {
     "data": {
      "text/html": [
       "<table class=\"simpletable\">\n",
       "<caption>OLS Regression Results</caption>\n",
       "<tr>\n",
       "  <th>Dep. Variable:</th>          <td>count</td>      <th>  R-squared:         </th> <td>   0.075</td>\n",
       "</tr>\n",
       "<tr>\n",
       "  <th>Model:</th>                   <td>OLS</td>       <th>  Adj. R-squared:    </th> <td>  -0.234</td>\n",
       "</tr>\n",
       "<tr>\n",
       "  <th>Method:</th>             <td>Least Squares</td>  <th>  F-statistic:       </th> <td>  0.2420</td>\n",
       "</tr>\n",
       "<tr>\n",
       "  <th>Date:</th>             <td>Tue, 22 Dec 2015</td> <th>  Prob (F-statistic):</th>  <td> 0.657</td> \n",
       "</tr>\n",
       "<tr>\n",
       "  <th>Time:</th>                 <td>22:35:40</td>     <th>  Log-Likelihood:    </th> <td> -6.3429</td>\n",
       "</tr>\n",
       "<tr>\n",
       "  <th>No. Observations:</th>      <td>     5</td>      <th>  AIC:               </th> <td>   16.69</td>\n",
       "</tr>\n",
       "<tr>\n",
       "  <th>Df Residuals:</th>          <td>     3</td>      <th>  BIC:               </th> <td>   15.90</td>\n",
       "</tr>\n",
       "<tr>\n",
       "  <th>Df Model:</th>              <td>     1</td>      <th>                     </th>     <td> </td>   \n",
       "</tr>\n",
       "<tr>\n",
       "  <th>Covariance Type:</th>      <td>nonrobust</td>    <th>                     </th>     <td> </td>   \n",
       "</tr>\n",
       "</table>\n",
       "<table class=\"simpletable\">\n",
       "<tr>\n",
       "         <td></td>           <th>coef</th>     <th>std err</th>      <th>t</th>      <th>P>|t|</th> <th>[95.0% Conf. Int.]</th> \n",
       "</tr>\n",
       "<tr>\n",
       "  <th>Intercept</th>      <td>-8.327e-17</td> <td>    0.497</td> <td>-1.68e-16</td> <td> 1.000</td> <td>   -1.581     1.581</td>\n",
       "</tr>\n",
       "<tr>\n",
       "  <th>highway_length</th> <td>    0.2732</td> <td>    0.555</td> <td>    0.492</td> <td> 0.657</td> <td>   -1.494     2.041</td>\n",
       "</tr>\n",
       "</table>\n",
       "<table class=\"simpletable\">\n",
       "<tr>\n",
       "  <th>Omnibus:</th>       <td>   nan</td> <th>  Durbin-Watson:     </th> <td>   1.340</td>\n",
       "</tr>\n",
       "<tr>\n",
       "  <th>Prob(Omnibus):</th> <td>   nan</td> <th>  Jarque-Bera (JB):  </th> <td>   0.486</td>\n",
       "</tr>\n",
       "<tr>\n",
       "  <th>Skew:</th>          <td> 0.266</td> <th>  Prob(JB):          </th> <td>   0.784</td>\n",
       "</tr>\n",
       "<tr>\n",
       "  <th>Kurtosis:</th>      <td> 1.569</td> <th>  Cond. No.          </th> <td>    1.12</td>\n",
       "</tr>\n",
       "</table>"
      ],
      "text/plain": [
       "<class 'statsmodels.iolib.summary.Summary'>\n",
       "\"\"\"\n",
       "                            OLS Regression Results                            \n",
       "==============================================================================\n",
       "Dep. Variable:                  count   R-squared:                       0.075\n",
       "Model:                            OLS   Adj. R-squared:                 -0.234\n",
       "Method:                 Least Squares   F-statistic:                    0.2420\n",
       "Date:                Tue, 22 Dec 2015   Prob (F-statistic):              0.657\n",
       "Time:                        22:35:40   Log-Likelihood:                -6.3429\n",
       "No. Observations:                   5   AIC:                             16.69\n",
       "Df Residuals:                       3   BIC:                             15.90\n",
       "Df Model:                           1                                         \n",
       "Covariance Type:            nonrobust                                         \n",
       "==================================================================================\n",
       "                     coef    std err          t      P>|t|      [95.0% Conf. Int.]\n",
       "----------------------------------------------------------------------------------\n",
       "Intercept      -8.327e-17      0.497  -1.68e-16      1.000        -1.581     1.581\n",
       "highway_length     0.2732      0.555      0.492      0.657        -1.494     2.041\n",
       "==============================================================================\n",
       "Omnibus:                          nan   Durbin-Watson:                   1.340\n",
       "Prob(Omnibus):                    nan   Jarque-Bera (JB):                0.486\n",
       "Skew:                           0.266   Prob(JB):                        0.784\n",
       "Kurtosis:                       1.569   Cond. No.                         1.12\n",
       "==============================================================================\n",
       "\n",
       "Warnings:\n",
       "[1] Standard Errors assume that the covariance matrix of the errors is correctly specified.\n",
       "\"\"\""
      ]
     },
     "execution_count": 43,
     "metadata": {},
     "output_type": "execute_result"
    }
   ],
   "source": [
    "formula2 = 'count ~ highway_length'\n",
    "lm2 = smf.ols(formula2, dt6, missing='drop').fit()\n",
    "lm2.summary()"
   ]
  },
  {
   "cell_type": "markdown",
   "metadata": {
    "collapsed": true
   },
   "source": [
    "The best regression model i get here is: count ~ highway_length + norm_311calls. Unfortunately none of the regression model gives really high R-square value. One of the reason could be the normalization process and feature selection for 311 calls. Another is the year of some datasets may be different from one to another, causing the irreasonable result"
   ]
  },
  {
   "cell_type": "markdown",
   "metadata": {
    "collapsed": true
   },
   "source": [
    "## Task 7"
   ]
  },
  {
   "cell_type": "markdown",
   "metadata": {
    "collapsed": true
   },
   "source": [
    "Use the elements of this model to cluster NYC zip codes by asthma risk. Your distance metric cna be bilt on the result of the regression. See Hints file if you need help on this task\n",
    "\n",
    "The result will be a map of the clusters.\n",
    "\n",
    "below is an example of a map derived by clustering from a model as the one you are required to make. This is just an example though: remember that your model will be different, so the map will be different!)"
   ]
  },
  {
   "cell_type": "code",
   "execution_count": 44,
   "metadata": {
    "collapsed": false
   },
   "outputs": [
    {
     "data": {
      "text/html": [
       "<div>\n",
       "<table border=\"1\" class=\"dataframe\">\n",
       "  <thead>\n",
       "    <tr style=\"text-align: right;\">\n",
       "      <th></th>\n",
       "      <th>norm_311calls</th>\n",
       "      <th>highway_length</th>\n",
       "    </tr>\n",
       "    <tr>\n",
       "      <th>zipcode</th>\n",
       "      <th></th>\n",
       "      <th></th>\n",
       "    </tr>\n",
       "  </thead>\n",
       "  <tbody>\n",
       "    <tr>\n",
       "      <th>10314</th>\n",
       "      <td>-0.894457</td>\n",
       "      <td>3.124527</td>\n",
       "    </tr>\n",
       "    <tr>\n",
       "      <th>10112</th>\n",
       "      <td>-1.763440</td>\n",
       "      <td>-1.073306</td>\n",
       "    </tr>\n",
       "    <tr>\n",
       "      <th>10048</th>\n",
       "      <td>-1.763440</td>\n",
       "      <td>-0.814605</td>\n",
       "    </tr>\n",
       "    <tr>\n",
       "      <th>10171</th>\n",
       "      <td>-1.763440</td>\n",
       "      <td>-1.073306</td>\n",
       "    </tr>\n",
       "    <tr>\n",
       "      <th>10172</th>\n",
       "      <td>-1.763440</td>\n",
       "      <td>-1.073306</td>\n",
       "    </tr>\n",
       "  </tbody>\n",
       "</table>\n",
       "</div>"
      ],
      "text/plain": [
       "         norm_311calls  highway_length\n",
       "zipcode                               \n",
       "10314        -0.894457        3.124527\n",
       "10112        -1.763440       -1.073306\n",
       "10048        -1.763440       -0.814605\n",
       "10171        -1.763440       -1.073306\n",
       "10172        -1.763440       -1.073306"
      ]
     },
     "execution_count": 44,
     "metadata": {},
     "output_type": "execute_result"
    }
   ],
   "source": [
    "dt7 = ziphigh_new[['zipcode','asthNorm','highway_length']].set_index('zipcode')\n",
    "dt7.columns = ['norm_311calls', 'highway_length']\n",
    "dt7 = (dt7-dt7.mean())/dt7.std()\n",
    "dt7.head()"
   ]
  },
  {
   "cell_type": "code",
   "execution_count": 45,
   "metadata": {
    "collapsed": false
   },
   "outputs": [
    {
     "data": {
      "text/plain": [
       "{'Intercept': -8.3266726846886741e-17,\n",
       " 'highway_length': 0.34804187345692272,\n",
       " 'norm_311calls': 0.67553952117891569}"
      ]
     },
     "execution_count": 45,
     "metadata": {},
     "output_type": "execute_result"
    }
   ],
   "source": [
    "weights = lm1.params.to_dict()\n",
    "weights"
   ]
  },
  {
   "cell_type": "code",
   "execution_count": 46,
   "metadata": {
    "collapsed": false
   },
   "outputs": [
    {
     "name": "stdout",
     "output_type": "stream",
     "text": [
      "factor norm_311calls with weight 0.675539521179\n",
      "factor highway_length with weight 0.348041873457\n"
     ]
    }
   ],
   "source": [
    "for i in weights:\n",
    "    if ((str(i)!='zipcode') and (i in dt7.columns.tolist())):\n",
    "        print 'factor',i, 'with weight', weights[i]\n",
    "        dt7[i] = dt7[i]*weights[i]"
   ]
  },
  {
   "cell_type": "code",
   "execution_count": 47,
   "metadata": {
    "collapsed": false
   },
   "outputs": [],
   "source": [
    "import sklearn.cluster\n",
    "from sklearn import mixture\n",
    "from PIL import Image\n",
    "from scipy.misc import imread\n",
    "from scipy.cluster.vq import kmeans2\n",
    "from sklearn.cluster import KMeans\n",
    "\n",
    "kmeans = sklearn.cluster.KMeans(n_clusters=4)\n",
    "kmeans.fit(dt7.values)\n",
    "labels = kmeans.labels_\n",
    "centers = kmeans.cluster_centers_"
   ]
  },
  {
   "cell_type": "code",
   "execution_count": 48,
   "metadata": {
    "collapsed": false
   },
   "outputs": [
    {
     "data": {
      "text/html": [
       "<div>\n",
       "<table border=\"1\" class=\"dataframe\">\n",
       "  <thead>\n",
       "    <tr style=\"text-align: right;\">\n",
       "      <th></th>\n",
       "      <th>norm_311calls</th>\n",
       "      <th>highway_length</th>\n",
       "      <th>labels</th>\n",
       "    </tr>\n",
       "    <tr>\n",
       "      <th>zipcode</th>\n",
       "      <th></th>\n",
       "      <th></th>\n",
       "      <th></th>\n",
       "    </tr>\n",
       "  </thead>\n",
       "  <tbody>\n",
       "    <tr>\n",
       "      <th>10314</th>\n",
       "      <td>-0.604241</td>\n",
       "      <td>1.087466</td>\n",
       "      <td>2</td>\n",
       "    </tr>\n",
       "    <tr>\n",
       "      <th>10112</th>\n",
       "      <td>-1.191274</td>\n",
       "      <td>-0.373555</td>\n",
       "      <td>3</td>\n",
       "    </tr>\n",
       "    <tr>\n",
       "      <th>10048</th>\n",
       "      <td>-1.191274</td>\n",
       "      <td>-0.283517</td>\n",
       "      <td>3</td>\n",
       "    </tr>\n",
       "    <tr>\n",
       "      <th>10171</th>\n",
       "      <td>-1.191274</td>\n",
       "      <td>-0.373555</td>\n",
       "      <td>3</td>\n",
       "    </tr>\n",
       "    <tr>\n",
       "      <th>10172</th>\n",
       "      <td>-1.191274</td>\n",
       "      <td>-0.373555</td>\n",
       "      <td>3</td>\n",
       "    </tr>\n",
       "  </tbody>\n",
       "</table>\n",
       "</div>"
      ],
      "text/plain": [
       "         norm_311calls  highway_length  labels\n",
       "zipcode                                       \n",
       "10314        -0.604241        1.087466       2\n",
       "10112        -1.191274       -0.373555       3\n",
       "10048        -1.191274       -0.283517       3\n",
       "10171        -1.191274       -0.373555       3\n",
       "10172        -1.191274       -0.373555       3"
      ]
     },
     "execution_count": 48,
     "metadata": {},
     "output_type": "execute_result"
    }
   ],
   "source": [
    "dt7['labels'] = labels\n",
    "dt7.head()"
   ]
  },
  {
   "cell_type": "code",
   "execution_count": 49,
   "metadata": {
    "collapsed": false,
    "scrolled": true
   },
   "outputs": [
    {
     "data": {
      "text/html": [
       "<div>\n",
       "<table border=\"1\" class=\"dataframe\">\n",
       "  <thead>\n",
       "    <tr style=\"text-align: right;\">\n",
       "      <th></th>\n",
       "      <th>cartodb_id</th>\n",
       "      <th>geometry</th>\n",
       "      <th>highway_length</th>\n",
       "      <th>zipcode</th>\n",
       "      <th>asthNorm</th>\n",
       "      <th>labels</th>\n",
       "    </tr>\n",
       "  </thead>\n",
       "  <tbody>\n",
       "    <tr>\n",
       "      <th>0</th>\n",
       "      <td>1</td>\n",
       "      <td>(POLYGON ((-74.194287 40.608911, -74.194929 40...</td>\n",
       "      <td>23.486470</td>\n",
       "      <td>10314</td>\n",
       "      <td>0.138223</td>\n",
       "      <td>2</td>\n",
       "    </tr>\n",
       "    <tr>\n",
       "      <th>1</th>\n",
       "      <td>2</td>\n",
       "      <td>(POLYGON ((-73.980886 40.75927, -73.9804259999...</td>\n",
       "      <td>0.000000</td>\n",
       "      <td>10112</td>\n",
       "      <td>0.000000</td>\n",
       "      <td>3</td>\n",
       "    </tr>\n",
       "    <tr>\n",
       "      <th>2</th>\n",
       "      <td>3</td>\n",
       "      <td>(POLYGON ((-74.011674 40.709687, -74.012646 40...</td>\n",
       "      <td>1.447405</td>\n",
       "      <td>10048</td>\n",
       "      <td>0.000000</td>\n",
       "      <td>3</td>\n",
       "    </tr>\n",
       "    <tr>\n",
       "      <th>3</th>\n",
       "      <td>4</td>\n",
       "      <td>(POLYGON ((-73.97282 40.75587, -73.973276 40.7...</td>\n",
       "      <td>0.000000</td>\n",
       "      <td>10171</td>\n",
       "      <td>0.000000</td>\n",
       "      <td>3</td>\n",
       "    </tr>\n",
       "    <tr>\n",
       "      <th>4</th>\n",
       "      <td>5</td>\n",
       "      <td>(POLYGON ((-73.973735 40.754619, -73.975352 40...</td>\n",
       "      <td>0.000000</td>\n",
       "      <td>10172</td>\n",
       "      <td>0.000000</td>\n",
       "      <td>3</td>\n",
       "    </tr>\n",
       "    <tr>\n",
       "      <th>5</th>\n",
       "      <td>6</td>\n",
       "      <td>(POLYGON ((-73.97418999999999 40.753994, -73.9...</td>\n",
       "      <td>0.000000</td>\n",
       "      <td>10167</td>\n",
       "      <td>0.000000</td>\n",
       "      <td>3</td>\n",
       "    </tr>\n",
       "    <tr>\n",
       "      <th>6</th>\n",
       "      <td>7</td>\n",
       "      <td>(POLYGON ((-73.975831 40.760418, -73.976288999...</td>\n",
       "      <td>0.000000</td>\n",
       "      <td>10103</td>\n",
       "      <td>0.000000</td>\n",
       "      <td>3</td>\n",
       "    </tr>\n",
       "    <tr>\n",
       "      <th>7</th>\n",
       "      <td>8</td>\n",
       "      <td>(POLYGON ((-73.814769 40.734764, -73.814742 40...</td>\n",
       "      <td>8.713778</td>\n",
       "      <td>11365</td>\n",
       "      <td>0.147745</td>\n",
       "      <td>0</td>\n",
       "    </tr>\n",
       "    <tr>\n",
       "      <th>8</th>\n",
       "      <td>9</td>\n",
       "      <td>(POLYGON ((-73.880723 40.690243, -73.879456 40...</td>\n",
       "      <td>9.737716</td>\n",
       "      <td>11208</td>\n",
       "      <td>0.390359</td>\n",
       "      <td>1</td>\n",
       "    </tr>\n",
       "    <tr>\n",
       "      <th>9</th>\n",
       "      <td>10</td>\n",
       "      <td>(POLYGON ((-73.70763100000001 40.74994, -73.70...</td>\n",
       "      <td>4.827112</td>\n",
       "      <td>11004</td>\n",
       "      <td>0.170732</td>\n",
       "      <td>0</td>\n",
       "    </tr>\n",
       "    <tr>\n",
       "      <th>10</th>\n",
       "      <td>11</td>\n",
       "      <td>(POLYGON ((-73.768316 40.755466, -73.769049 40...</td>\n",
       "      <td>11.441735</td>\n",
       "      <td>11361</td>\n",
       "      <td>0.184211</td>\n",
       "      <td>0</td>\n",
       "    </tr>\n",
       "    <tr>\n",
       "      <th>11</th>\n",
       "      <td>12</td>\n",
       "      <td>(POLYGON ((-73.81339699999999 40.66304, -73.81...</td>\n",
       "      <td>16.965350</td>\n",
       "      <td>11430</td>\n",
       "      <td>0.013699</td>\n",
       "      <td>3</td>\n",
       "    </tr>\n",
       "    <tr>\n",
       "      <th>12</th>\n",
       "      <td>13</td>\n",
       "      <td>(POLYGON ((-73.87625199999999 40.748439, -73.8...</td>\n",
       "      <td>5.721388</td>\n",
       "      <td>11372</td>\n",
       "      <td>0.377653</td>\n",
       "      <td>1</td>\n",
       "    </tr>\n",
       "    <tr>\n",
       "      <th>13</th>\n",
       "      <td>14</td>\n",
       "      <td>(POLYGON ((-73.855553 40.831727, -73.854733 40...</td>\n",
       "      <td>15.588452</td>\n",
       "      <td>10472</td>\n",
       "      <td>0.494168</td>\n",
       "      <td>1</td>\n",
       "    </tr>\n",
       "    <tr>\n",
       "      <th>14</th>\n",
       "      <td>15</td>\n",
       "      <td>(POLYGON ((-73.906997 40.81834, -73.9075469999...</td>\n",
       "      <td>1.750779</td>\n",
       "      <td>10456</td>\n",
       "      <td>0.539788</td>\n",
       "      <td>1</td>\n",
       "    </tr>\n",
       "    <tr>\n",
       "      <th>15</th>\n",
       "      <td>16</td>\n",
       "      <td>(POLYGON ((-73.90289799999999 40.823297, -73.9...</td>\n",
       "      <td>6.661173</td>\n",
       "      <td>10459</td>\n",
       "      <td>0.486179</td>\n",
       "      <td>1</td>\n",
       "    </tr>\n",
       "    <tr>\n",
       "      <th>16</th>\n",
       "      <td>17</td>\n",
       "      <td>(POLYGON ((-74.106071 40.642038, -74.105937 40...</td>\n",
       "      <td>0.000000</td>\n",
       "      <td>10310</td>\n",
       "      <td>0.261286</td>\n",
       "      <td>0</td>\n",
       "    </tr>\n",
       "    <tr>\n",
       "      <th>17</th>\n",
       "      <td>18</td>\n",
       "      <td>(POLYGON ((-74.010201 40.707694, -74.011247999...</td>\n",
       "      <td>0.764570</td>\n",
       "      <td>10271</td>\n",
       "      <td>0.000000</td>\n",
       "      <td>3</td>\n",
       "    </tr>\n",
       "    <tr>\n",
       "      <th>18</th>\n",
       "      <td>19</td>\n",
       "      <td>(POLYGON ((-74.010346 40.703268, -74.008985999...</td>\n",
       "      <td>2.170140</td>\n",
       "      <td>10041</td>\n",
       "      <td>0.000000</td>\n",
       "      <td>3</td>\n",
       "    </tr>\n",
       "    <tr>\n",
       "      <th>19</th>\n",
       "      <td>20</td>\n",
       "      <td>(POLYGON ((-74.007666 40.712533, -74.0081 40.7...</td>\n",
       "      <td>0.456186</td>\n",
       "      <td>10279</td>\n",
       "      <td>0.000000</td>\n",
       "      <td>3</td>\n",
       "    </tr>\n",
       "    <tr>\n",
       "      <th>20</th>\n",
       "      <td>21</td>\n",
       "      <td>(POLYGON ((-74.003181 40.714707, -74.003404 40...</td>\n",
       "      <td>0.000000</td>\n",
       "      <td>10278</td>\n",
       "      <td>0.000000</td>\n",
       "      <td>3</td>\n",
       "    </tr>\n",
       "    <tr>\n",
       "      <th>21</th>\n",
       "      <td>22</td>\n",
       "      <td>(POLYGON ((-73.977677 40.75211900000001, -73.9...</td>\n",
       "      <td>0.000000</td>\n",
       "      <td>10165</td>\n",
       "      <td>0.000000</td>\n",
       "      <td>3</td>\n",
       "    </tr>\n",
       "    <tr>\n",
       "      <th>22</th>\n",
       "      <td>23</td>\n",
       "      <td>(POLYGON ((-73.976744 40.759165, -73.977200999...</td>\n",
       "      <td>0.000000</td>\n",
       "      <td>10111</td>\n",
       "      <td>0.000000</td>\n",
       "      <td>3</td>\n",
       "    </tr>\n",
       "    <tr>\n",
       "      <th>23</th>\n",
       "      <td>24</td>\n",
       "      <td>(POLYGON ((-73.973015 40.764279, -73.971411 40...</td>\n",
       "      <td>0.000000</td>\n",
       "      <td>10153</td>\n",
       "      <td>0.000000</td>\n",
       "      <td>3</td>\n",
       "    </tr>\n",
       "    <tr>\n",
       "      <th>24</th>\n",
       "      <td>25</td>\n",
       "      <td>(POLYGON ((-73.948972 40.768659, -73.949265999...</td>\n",
       "      <td>1.193615</td>\n",
       "      <td>10162</td>\n",
       "      <td>0.000000</td>\n",
       "      <td>3</td>\n",
       "    </tr>\n",
       "    <tr>\n",
       "      <th>25</th>\n",
       "      <td>26</td>\n",
       "      <td>(POLYGON ((-73.963058 40.810947, -73.963477 40...</td>\n",
       "      <td>0.953448</td>\n",
       "      <td>10115</td>\n",
       "      <td>0.000000</td>\n",
       "      <td>3</td>\n",
       "    </tr>\n",
       "    <tr>\n",
       "      <th>26</th>\n",
       "      <td>27</td>\n",
       "      <td>(POLYGON ((-73.922929 40.858941, -73.922369000...</td>\n",
       "      <td>11.270678</td>\n",
       "      <td>10040</td>\n",
       "      <td>0.584012</td>\n",
       "      <td>1</td>\n",
       "    </tr>\n",
       "    <tr>\n",
       "      <th>27</th>\n",
       "      <td>28</td>\n",
       "      <td>(POLYGON ((-73.95679 40.671356, -73.957657 40....</td>\n",
       "      <td>0.000000</td>\n",
       "      <td>11238</td>\n",
       "      <td>0.386722</td>\n",
       "      <td>1</td>\n",
       "    </tr>\n",
       "    <tr>\n",
       "      <th>28</th>\n",
       "      <td>29</td>\n",
       "      <td>(POLYGON ((-73.934134 40.693355, -73.937049 40...</td>\n",
       "      <td>1.416299</td>\n",
       "      <td>11206</td>\n",
       "      <td>0.357280</td>\n",
       "      <td>1</td>\n",
       "    </tr>\n",
       "    <tr>\n",
       "      <th>29</th>\n",
       "      <td>30</td>\n",
       "      <td>(POLYGON ((-73.984433 40.592496, -73.984528 40...</td>\n",
       "      <td>7.611505</td>\n",
       "      <td>11223</td>\n",
       "      <td>0.348468</td>\n",
       "      <td>1</td>\n",
       "    </tr>\n",
       "    <tr>\n",
       "      <th>...</th>\n",
       "      <td>...</td>\n",
       "      <td>...</td>\n",
       "      <td>...</td>\n",
       "      <td>...</td>\n",
       "      <td>...</td>\n",
       "      <td>...</td>\n",
       "    </tr>\n",
       "    <tr>\n",
       "      <th>170</th>\n",
       "      <td>171</td>\n",
       "      <td>(POLYGON ((-74.002914 40.662428, -74.004979000...</td>\n",
       "      <td>6.543705</td>\n",
       "      <td>11232</td>\n",
       "      <td>0.326776</td>\n",
       "      <td>0</td>\n",
       "    </tr>\n",
       "    <tr>\n",
       "      <th>171</th>\n",
       "      <td>172</td>\n",
       "      <td>(POLYGON ((-74.01343 40.652453, -74.0111140000...</td>\n",
       "      <td>7.172993</td>\n",
       "      <td>11220</td>\n",
       "      <td>0.359026</td>\n",
       "      <td>1</td>\n",
       "    </tr>\n",
       "    <tr>\n",
       "      <th>172</th>\n",
       "      <td>173</td>\n",
       "      <td>(POLYGON ((-73.997272 40.67288000000001, -73.9...</td>\n",
       "      <td>5.192745</td>\n",
       "      <td>11215</td>\n",
       "      <td>0.269345</td>\n",
       "      <td>0</td>\n",
       "    </tr>\n",
       "    <tr>\n",
       "      <th>173</th>\n",
       "      <td>174</td>\n",
       "      <td>(POLYGON ((-73.973938 40.707901, -73.972685 40...</td>\n",
       "      <td>3.631348</td>\n",
       "      <td>11205</td>\n",
       "      <td>0.309693</td>\n",
       "      <td>0</td>\n",
       "    </tr>\n",
       "    <tr>\n",
       "      <th>174</th>\n",
       "      <td>175</td>\n",
       "      <td>(POLYGON ((-74.01728900000001 40.629044, -74.0...</td>\n",
       "      <td>14.998216</td>\n",
       "      <td>11209</td>\n",
       "      <td>0.420749</td>\n",
       "      <td>2</td>\n",
       "    </tr>\n",
       "    <tr>\n",
       "      <th>175</th>\n",
       "      <td>176</td>\n",
       "      <td>(POLYGON ((-73.98699999999999 40.687773, -73.9...</td>\n",
       "      <td>0.000000</td>\n",
       "      <td>11217</td>\n",
       "      <td>0.275246</td>\n",
       "      <td>0</td>\n",
       "    </tr>\n",
       "    <tr>\n",
       "      <th>176</th>\n",
       "      <td>177</td>\n",
       "      <td>(POLYGON ((-73.99697500000001 40.673709, -73.9...</td>\n",
       "      <td>5.818067</td>\n",
       "      <td>11231</td>\n",
       "      <td>0.221584</td>\n",
       "      <td>0</td>\n",
       "    </tr>\n",
       "    <tr>\n",
       "      <th>177</th>\n",
       "      <td>178</td>\n",
       "      <td>(POLYGON ((-73.98085 40.635516, -73.981432 40....</td>\n",
       "      <td>0.277969</td>\n",
       "      <td>11219</td>\n",
       "      <td>0.308908</td>\n",
       "      <td>0</td>\n",
       "    </tr>\n",
       "    <tr>\n",
       "      <th>178</th>\n",
       "      <td>179</td>\n",
       "      <td>(POLYGON ((-73.949383 40.639928, -73.949233000...</td>\n",
       "      <td>2.927363</td>\n",
       "      <td>11226</td>\n",
       "      <td>0.493313</td>\n",
       "      <td>1</td>\n",
       "    </tr>\n",
       "    <tr>\n",
       "      <th>179</th>\n",
       "      <td>180</td>\n",
       "      <td>(POLYGON ((-73.96538200000001 40.636279, -73.9...</td>\n",
       "      <td>6.037447</td>\n",
       "      <td>11218</td>\n",
       "      <td>0.368691</td>\n",
       "      <td>1</td>\n",
       "    </tr>\n",
       "    <tr>\n",
       "      <th>180</th>\n",
       "      <td>181</td>\n",
       "      <td>(POLYGON ((-73.997111 40.591278, -73.997538000...</td>\n",
       "      <td>5.653932</td>\n",
       "      <td>11214</td>\n",
       "      <td>0.395961</td>\n",
       "      <td>1</td>\n",
       "    </tr>\n",
       "    <tr>\n",
       "      <th>181</th>\n",
       "      <td>182</td>\n",
       "      <td>(POLYGON ((-73.94798400000001 40.6670310000000...</td>\n",
       "      <td>1.231912</td>\n",
       "      <td>11225</td>\n",
       "      <td>0.541696</td>\n",
       "      <td>1</td>\n",
       "    </tr>\n",
       "    <tr>\n",
       "      <th>182</th>\n",
       "      <td>183</td>\n",
       "      <td>(POLYGON ((-73.977778 40.628193, -73.977524000...</td>\n",
       "      <td>0.000000</td>\n",
       "      <td>11204</td>\n",
       "      <td>0.319774</td>\n",
       "      <td>0</td>\n",
       "    </tr>\n",
       "    <tr>\n",
       "      <th>183</th>\n",
       "      <td>184</td>\n",
       "      <td>(POLYGON ((-73.9464 40.675903, -73.947146 40.6...</td>\n",
       "      <td>0.000000</td>\n",
       "      <td>11216</td>\n",
       "      <td>0.476070</td>\n",
       "      <td>1</td>\n",
       "    </tr>\n",
       "    <tr>\n",
       "      <th>184</th>\n",
       "      <td>185</td>\n",
       "      <td>(POLYGON ((-73.9353 40.68422900000001, -73.938...</td>\n",
       "      <td>0.000000</td>\n",
       "      <td>11221</td>\n",
       "      <td>0.427238</td>\n",
       "      <td>1</td>\n",
       "    </tr>\n",
       "    <tr>\n",
       "      <th>185</th>\n",
       "      <td>186</td>\n",
       "      <td>(POLYGON ((-73.947146 40.675944, -73.9464 40.6...</td>\n",
       "      <td>0.000000</td>\n",
       "      <td>11213</td>\n",
       "      <td>0.520690</td>\n",
       "      <td>1</td>\n",
       "    </tr>\n",
       "    <tr>\n",
       "      <th>186</th>\n",
       "      <td>187</td>\n",
       "      <td>(POLYGON ((-73.930318 40.677351, -73.933086 40...</td>\n",
       "      <td>0.000000</td>\n",
       "      <td>11233</td>\n",
       "      <td>0.461417</td>\n",
       "      <td>1</td>\n",
       "    </tr>\n",
       "    <tr>\n",
       "      <th>187</th>\n",
       "      <td>188</td>\n",
       "      <td>(POLYGON ((-73.999521 40.580711, -73.990697 40...</td>\n",
       "      <td>3.977313</td>\n",
       "      <td>11224</td>\n",
       "      <td>0.403244</td>\n",
       "      <td>1</td>\n",
       "    </tr>\n",
       "    <tr>\n",
       "      <th>188</th>\n",
       "      <td>189</td>\n",
       "      <td>(POLYGON ((-73.89975699999999 40.659815, -73.8...</td>\n",
       "      <td>3.243659</td>\n",
       "      <td>11212</td>\n",
       "      <td>0.481481</td>\n",
       "      <td>1</td>\n",
       "    </tr>\n",
       "    <tr>\n",
       "      <th>189</th>\n",
       "      <td>190</td>\n",
       "      <td>(POLYGON ((-73.87843599999999 40.649327, -73.8...</td>\n",
       "      <td>4.886354</td>\n",
       "      <td>11207</td>\n",
       "      <td>0.410045</td>\n",
       "      <td>1</td>\n",
       "    </tr>\n",
       "    <tr>\n",
       "      <th>190</th>\n",
       "      <td>191</td>\n",
       "      <td>(POLYGON ((-73.953419 40.582609, -73.953301999...</td>\n",
       "      <td>10.099600</td>\n",
       "      <td>11235</td>\n",
       "      <td>0.361462</td>\n",
       "      <td>2</td>\n",
       "    </tr>\n",
       "    <tr>\n",
       "      <th>191</th>\n",
       "      <td>192</td>\n",
       "      <td>(POLYGON ((-73.932044 40.702002, -73.930594 40...</td>\n",
       "      <td>0.000000</td>\n",
       "      <td>11237</td>\n",
       "      <td>0.395841</td>\n",
       "      <td>1</td>\n",
       "    </tr>\n",
       "    <tr>\n",
       "      <th>192</th>\n",
       "      <td>193</td>\n",
       "      <td>(POLYGON ((-73.95581199999999 40.628234, -73.9...</td>\n",
       "      <td>4.352036</td>\n",
       "      <td>11230</td>\n",
       "      <td>0.475024</td>\n",
       "      <td>1</td>\n",
       "    </tr>\n",
       "    <tr>\n",
       "      <th>193</th>\n",
       "      <td>194</td>\n",
       "      <td>(POLYGON ((-73.945318 40.71876, -73.946397 40....</td>\n",
       "      <td>5.493453</td>\n",
       "      <td>11222</td>\n",
       "      <td>0.266714</td>\n",
       "      <td>0</td>\n",
       "    </tr>\n",
       "    <tr>\n",
       "      <th>194</th>\n",
       "      <td>195</td>\n",
       "      <td>(POLYGON ((-73.942503 40.638965, -73.943986 40...</td>\n",
       "      <td>2.212840</td>\n",
       "      <td>11203</td>\n",
       "      <td>0.459787</td>\n",
       "      <td>1</td>\n",
       "    </tr>\n",
       "    <tr>\n",
       "      <th>195</th>\n",
       "      <td>196</td>\n",
       "      <td>(POLYGON ((-73.96373 40.721339, -73.9627870000...</td>\n",
       "      <td>4.877815</td>\n",
       "      <td>11211</td>\n",
       "      <td>0.278902</td>\n",
       "      <td>0</td>\n",
       "    </tr>\n",
       "    <tr>\n",
       "      <th>196</th>\n",
       "      <td>197</td>\n",
       "      <td>(POLYGON ((-73.943986 40.63887200000001, -73.9...</td>\n",
       "      <td>0.000000</td>\n",
       "      <td>11210</td>\n",
       "      <td>0.445382</td>\n",
       "      <td>1</td>\n",
       "    </tr>\n",
       "    <tr>\n",
       "      <th>197</th>\n",
       "      <td>198</td>\n",
       "      <td>(POLYGON ((-73.919123 40.637012, -73.919163999...</td>\n",
       "      <td>7.314725</td>\n",
       "      <td>11236</td>\n",
       "      <td>0.360397</td>\n",
       "      <td>1</td>\n",
       "    </tr>\n",
       "    <tr>\n",
       "      <th>198</th>\n",
       "      <td>199</td>\n",
       "      <td>(POLYGON ((-73.944827 40.616046, -73.944676 40...</td>\n",
       "      <td>7.604730</td>\n",
       "      <td>11234</td>\n",
       "      <td>0.235832</td>\n",
       "      <td>0</td>\n",
       "    </tr>\n",
       "    <tr>\n",
       "      <th>199</th>\n",
       "      <td>200</td>\n",
       "      <td>(POLYGON ((-74.02213 40.684541, -74.022385 40....</td>\n",
       "      <td>8.692550</td>\n",
       "      <td>10004</td>\n",
       "      <td>0.045198</td>\n",
       "      <td>3</td>\n",
       "    </tr>\n",
       "  </tbody>\n",
       "</table>\n",
       "<p>200 rows × 6 columns</p>\n",
       "</div>"
      ],
      "text/plain": [
       "     cartodb_id                                           geometry  \\\n",
       "0             1  (POLYGON ((-74.194287 40.608911, -74.194929 40...   \n",
       "1             2  (POLYGON ((-73.980886 40.75927, -73.9804259999...   \n",
       "2             3  (POLYGON ((-74.011674 40.709687, -74.012646 40...   \n",
       "3             4  (POLYGON ((-73.97282 40.75587, -73.973276 40.7...   \n",
       "4             5  (POLYGON ((-73.973735 40.754619, -73.975352 40...   \n",
       "5             6  (POLYGON ((-73.97418999999999 40.753994, -73.9...   \n",
       "6             7  (POLYGON ((-73.975831 40.760418, -73.976288999...   \n",
       "7             8  (POLYGON ((-73.814769 40.734764, -73.814742 40...   \n",
       "8             9  (POLYGON ((-73.880723 40.690243, -73.879456 40...   \n",
       "9            10  (POLYGON ((-73.70763100000001 40.74994, -73.70...   \n",
       "10           11  (POLYGON ((-73.768316 40.755466, -73.769049 40...   \n",
       "11           12  (POLYGON ((-73.81339699999999 40.66304, -73.81...   \n",
       "12           13  (POLYGON ((-73.87625199999999 40.748439, -73.8...   \n",
       "13           14  (POLYGON ((-73.855553 40.831727, -73.854733 40...   \n",
       "14           15  (POLYGON ((-73.906997 40.81834, -73.9075469999...   \n",
       "15           16  (POLYGON ((-73.90289799999999 40.823297, -73.9...   \n",
       "16           17  (POLYGON ((-74.106071 40.642038, -74.105937 40...   \n",
       "17           18  (POLYGON ((-74.010201 40.707694, -74.011247999...   \n",
       "18           19  (POLYGON ((-74.010346 40.703268, -74.008985999...   \n",
       "19           20  (POLYGON ((-74.007666 40.712533, -74.0081 40.7...   \n",
       "20           21  (POLYGON ((-74.003181 40.714707, -74.003404 40...   \n",
       "21           22  (POLYGON ((-73.977677 40.75211900000001, -73.9...   \n",
       "22           23  (POLYGON ((-73.976744 40.759165, -73.977200999...   \n",
       "23           24  (POLYGON ((-73.973015 40.764279, -73.971411 40...   \n",
       "24           25  (POLYGON ((-73.948972 40.768659, -73.949265999...   \n",
       "25           26  (POLYGON ((-73.963058 40.810947, -73.963477 40...   \n",
       "26           27  (POLYGON ((-73.922929 40.858941, -73.922369000...   \n",
       "27           28  (POLYGON ((-73.95679 40.671356, -73.957657 40....   \n",
       "28           29  (POLYGON ((-73.934134 40.693355, -73.937049 40...   \n",
       "29           30  (POLYGON ((-73.984433 40.592496, -73.984528 40...   \n",
       "..          ...                                                ...   \n",
       "170         171  (POLYGON ((-74.002914 40.662428, -74.004979000...   \n",
       "171         172  (POLYGON ((-74.01343 40.652453, -74.0111140000...   \n",
       "172         173  (POLYGON ((-73.997272 40.67288000000001, -73.9...   \n",
       "173         174  (POLYGON ((-73.973938 40.707901, -73.972685 40...   \n",
       "174         175  (POLYGON ((-74.01728900000001 40.629044, -74.0...   \n",
       "175         176  (POLYGON ((-73.98699999999999 40.687773, -73.9...   \n",
       "176         177  (POLYGON ((-73.99697500000001 40.673709, -73.9...   \n",
       "177         178  (POLYGON ((-73.98085 40.635516, -73.981432 40....   \n",
       "178         179  (POLYGON ((-73.949383 40.639928, -73.949233000...   \n",
       "179         180  (POLYGON ((-73.96538200000001 40.636279, -73.9...   \n",
       "180         181  (POLYGON ((-73.997111 40.591278, -73.997538000...   \n",
       "181         182  (POLYGON ((-73.94798400000001 40.6670310000000...   \n",
       "182         183  (POLYGON ((-73.977778 40.628193, -73.977524000...   \n",
       "183         184  (POLYGON ((-73.9464 40.675903, -73.947146 40.6...   \n",
       "184         185  (POLYGON ((-73.9353 40.68422900000001, -73.938...   \n",
       "185         186  (POLYGON ((-73.947146 40.675944, -73.9464 40.6...   \n",
       "186         187  (POLYGON ((-73.930318 40.677351, -73.933086 40...   \n",
       "187         188  (POLYGON ((-73.999521 40.580711, -73.990697 40...   \n",
       "188         189  (POLYGON ((-73.89975699999999 40.659815, -73.8...   \n",
       "189         190  (POLYGON ((-73.87843599999999 40.649327, -73.8...   \n",
       "190         191  (POLYGON ((-73.953419 40.582609, -73.953301999...   \n",
       "191         192  (POLYGON ((-73.932044 40.702002, -73.930594 40...   \n",
       "192         193  (POLYGON ((-73.95581199999999 40.628234, -73.9...   \n",
       "193         194  (POLYGON ((-73.945318 40.71876, -73.946397 40....   \n",
       "194         195  (POLYGON ((-73.942503 40.638965, -73.943986 40...   \n",
       "195         196  (POLYGON ((-73.96373 40.721339, -73.9627870000...   \n",
       "196         197  (POLYGON ((-73.943986 40.63887200000001, -73.9...   \n",
       "197         198  (POLYGON ((-73.919123 40.637012, -73.919163999...   \n",
       "198         199  (POLYGON ((-73.944827 40.616046, -73.944676 40...   \n",
       "199         200  (POLYGON ((-74.02213 40.684541, -74.022385 40....   \n",
       "\n",
       "     highway_length  zipcode  asthNorm  labels  \n",
       "0         23.486470    10314  0.138223       2  \n",
       "1          0.000000    10112  0.000000       3  \n",
       "2          1.447405    10048  0.000000       3  \n",
       "3          0.000000    10171  0.000000       3  \n",
       "4          0.000000    10172  0.000000       3  \n",
       "5          0.000000    10167  0.000000       3  \n",
       "6          0.000000    10103  0.000000       3  \n",
       "7          8.713778    11365  0.147745       0  \n",
       "8          9.737716    11208  0.390359       1  \n",
       "9          4.827112    11004  0.170732       0  \n",
       "10        11.441735    11361  0.184211       0  \n",
       "11        16.965350    11430  0.013699       3  \n",
       "12         5.721388    11372  0.377653       1  \n",
       "13        15.588452    10472  0.494168       1  \n",
       "14         1.750779    10456  0.539788       1  \n",
       "15         6.661173    10459  0.486179       1  \n",
       "16         0.000000    10310  0.261286       0  \n",
       "17         0.764570    10271  0.000000       3  \n",
       "18         2.170140    10041  0.000000       3  \n",
       "19         0.456186    10279  0.000000       3  \n",
       "20         0.000000    10278  0.000000       3  \n",
       "21         0.000000    10165  0.000000       3  \n",
       "22         0.000000    10111  0.000000       3  \n",
       "23         0.000000    10153  0.000000       3  \n",
       "24         1.193615    10162  0.000000       3  \n",
       "25         0.953448    10115  0.000000       3  \n",
       "26        11.270678    10040  0.584012       1  \n",
       "27         0.000000    11238  0.386722       1  \n",
       "28         1.416299    11206  0.357280       1  \n",
       "29         7.611505    11223  0.348468       1  \n",
       "..              ...      ...       ...     ...  \n",
       "170        6.543705    11232  0.326776       0  \n",
       "171        7.172993    11220  0.359026       1  \n",
       "172        5.192745    11215  0.269345       0  \n",
       "173        3.631348    11205  0.309693       0  \n",
       "174       14.998216    11209  0.420749       2  \n",
       "175        0.000000    11217  0.275246       0  \n",
       "176        5.818067    11231  0.221584       0  \n",
       "177        0.277969    11219  0.308908       0  \n",
       "178        2.927363    11226  0.493313       1  \n",
       "179        6.037447    11218  0.368691       1  \n",
       "180        5.653932    11214  0.395961       1  \n",
       "181        1.231912    11225  0.541696       1  \n",
       "182        0.000000    11204  0.319774       0  \n",
       "183        0.000000    11216  0.476070       1  \n",
       "184        0.000000    11221  0.427238       1  \n",
       "185        0.000000    11213  0.520690       1  \n",
       "186        0.000000    11233  0.461417       1  \n",
       "187        3.977313    11224  0.403244       1  \n",
       "188        3.243659    11212  0.481481       1  \n",
       "189        4.886354    11207  0.410045       1  \n",
       "190       10.099600    11235  0.361462       2  \n",
       "191        0.000000    11237  0.395841       1  \n",
       "192        4.352036    11230  0.475024       1  \n",
       "193        5.493453    11222  0.266714       0  \n",
       "194        2.212840    11203  0.459787       1  \n",
       "195        4.877815    11211  0.278902       0  \n",
       "196        0.000000    11210  0.445382       1  \n",
       "197        7.314725    11236  0.360397       1  \n",
       "198        7.604730    11234  0.235832       0  \n",
       "199        8.692550    10004  0.045198       3  \n",
       "\n",
       "[200 rows x 6 columns]"
      ]
     },
     "execution_count": 49,
     "metadata": {},
     "output_type": "execute_result"
    }
   ],
   "source": [
    "# ziphigh_new.head()\n",
    "ziphigh_new.merge(dt7.reset_index()[['zipcode','labels']])"
   ]
  },
  {
   "cell_type": "code",
   "execution_count": 50,
   "metadata": {
    "collapsed": false
   },
   "outputs": [
    {
     "data": {
      "text/html": [
       "<div>\n",
       "<table border=\"1\" class=\"dataframe\">\n",
       "  <thead>\n",
       "    <tr style=\"text-align: right;\">\n",
       "      <th></th>\n",
       "      <th>cartodb_id</th>\n",
       "      <th>geometry</th>\n",
       "      <th>highway_length</th>\n",
       "      <th>zipcode</th>\n",
       "      <th>asthNorm</th>\n",
       "      <th>labels</th>\n",
       "    </tr>\n",
       "  </thead>\n",
       "  <tbody>\n",
       "    <tr>\n",
       "      <th>0</th>\n",
       "      <td>1</td>\n",
       "      <td>(POLYGON ((-74.194287 40.608911, -74.194929 40...</td>\n",
       "      <td>23.486470</td>\n",
       "      <td>10314</td>\n",
       "      <td>0.138223</td>\n",
       "      <td>2</td>\n",
       "    </tr>\n",
       "    <tr>\n",
       "      <th>1</th>\n",
       "      <td>2</td>\n",
       "      <td>(POLYGON ((-73.980886 40.75927, -73.9804259999...</td>\n",
       "      <td>0.000000</td>\n",
       "      <td>10112</td>\n",
       "      <td>0.000000</td>\n",
       "      <td>3</td>\n",
       "    </tr>\n",
       "    <tr>\n",
       "      <th>2</th>\n",
       "      <td>3</td>\n",
       "      <td>(POLYGON ((-74.011674 40.709687, -74.012646 40...</td>\n",
       "      <td>1.447405</td>\n",
       "      <td>10048</td>\n",
       "      <td>0.000000</td>\n",
       "      <td>3</td>\n",
       "    </tr>\n",
       "    <tr>\n",
       "      <th>3</th>\n",
       "      <td>4</td>\n",
       "      <td>(POLYGON ((-73.97282 40.75587, -73.973276 40.7...</td>\n",
       "      <td>0.000000</td>\n",
       "      <td>10171</td>\n",
       "      <td>0.000000</td>\n",
       "      <td>3</td>\n",
       "    </tr>\n",
       "    <tr>\n",
       "      <th>4</th>\n",
       "      <td>5</td>\n",
       "      <td>(POLYGON ((-73.973735 40.754619, -73.975352 40...</td>\n",
       "      <td>0.000000</td>\n",
       "      <td>10172</td>\n",
       "      <td>0.000000</td>\n",
       "      <td>3</td>\n",
       "    </tr>\n",
       "  </tbody>\n",
       "</table>\n",
       "</div>"
      ],
      "text/plain": [
       "   cartodb_id                                           geometry  \\\n",
       "0           1  (POLYGON ((-74.194287 40.608911, -74.194929 40...   \n",
       "1           2  (POLYGON ((-73.980886 40.75927, -73.9804259999...   \n",
       "2           3  (POLYGON ((-74.011674 40.709687, -74.012646 40...   \n",
       "3           4  (POLYGON ((-73.97282 40.75587, -73.973276 40.7...   \n",
       "4           5  (POLYGON ((-73.973735 40.754619, -73.975352 40...   \n",
       "\n",
       "   highway_length  zipcode  asthNorm  labels  \n",
       "0       23.486470    10314  0.138223       2  \n",
       "1        0.000000    10112  0.000000       3  \n",
       "2        1.447405    10048  0.000000       3  \n",
       "3        0.000000    10171  0.000000       3  \n",
       "4        0.000000    10172  0.000000       3  "
      ]
     },
     "execution_count": 50,
     "metadata": {},
     "output_type": "execute_result"
    }
   ],
   "source": [
    "ziphigh7 = ziphigh_new.merge(dt7.reset_index()[['zipcode','labels']], how='left', on='zipcode')\n",
    "ziphigh7.head()"
   ]
  },
  {
   "cell_type": "code",
   "execution_count": 51,
   "metadata": {
    "collapsed": false
   },
   "outputs": [
    {
     "data": {
      "image/png": "[encoded data removed]",
      "text/plain": [
       "<matplotlib.figure.Figure at 0x1314e5690>"
      ]
     },
     "metadata": {},
     "output_type": "display_data"
    }
   ],
   "source": [
    "fig,ax = plt.subplots(figsize=(8,8))\n",
    "\n",
    "ziphigh7.plot(column='labels', linewidth=0.1, \n",
    "             alpha=1, edgecolor = 'k', \n",
    "             ax=ax, legend = True, categorical = True)\n",
    "\n",
    "ax.set_title('Zipcode clusters by Asthma weighted factors')\n",
    "ax.set_axis_off()"
   ]
  },
  {
   "cell_type": "markdown",
   "metadata": {},
   "source": [
    "## Discussion"
   ]
  },
  {
   "cell_type": "markdown",
   "metadata": {},
   "source": [
    "the goal of this assignment is to find out and evaluate different factors that pre-assumed to be one of the predictors for asthma cases in NYC. From my analaysis, i used dataset for highway length and 311 calls, and the regression model on each of their effect on asthma cases are not strong, returning R-value about 0.1.\n",
    "\n",
    "One of the reason for such poor result is the factor chosen in 311 complaint types that we believe to have a relation with asthma. Since it is based on personal knowledge, we cannot prove its confidentiality. Another reason could be the choice of datasets, some of the datasets may not come from the same year. "
   ]
  },
  {
   "cell_type": "markdown",
   "metadata": {},
   "source": [
    "## Extra Credit"
   ]
  },
  {
   "cell_type": "code",
   "execution_count": 52,
   "metadata": {
    "collapsed": true
   },
   "outputs": [],
   "source": [
    "alldischargeQuery = '''\n",
    "SELECT facility_id, COUNT(*) as count\n",
    "FROM nyc_discharge_2013\n",
    "WHERE lower(ccs_diagnosis_description) LIKE '%asthma%'\n",
    "GROUP BY facility_id\n",
    "ORDER BY count DESC\n",
    "'''\n",
    "\n",
    "# SELECT facility_id, COUNT(*) AS count\n",
    "# FROM nyc_discharge_2013\n",
    "# WHERE lower(ccs_diagnosis_description) LIKE '%asthma%'\n",
    "# GROUP BY facility_id\n",
    "# ORDER BY count DESC\n",
    "# LIMIT 5\n",
    "\n",
    "# facilityStream = queryCartoDB(facilityQuery, format='GeoJSON')\n",
    "# facilityData   = json.loads(facilityStream.read())\n",
    "# facilities     = gpd.GeoDataFrame.from_features(facilityData['features'])\n",
    "\n",
    "# zipcodeStream = queryCartoDB(zipcodeQuery, format='GeoJSON')\n",
    "# zipcodeData   = json.loads(zipcodeStream.read())\n",
    "# zipcodes      = gpd.GeoDataFrame.from_features(zipcodeData['features'])"
   ]
  },
  {
   "cell_type": "code",
   "execution_count": 53,
   "metadata": {
    "collapsed": false
   },
   "outputs": [],
   "source": [
    "allAsthmaStream = queryCartoDB(alldischargeQuery, format='CSV')\n",
    "allAsthma = pd.read_csv(allAsthmaStream)"
   ]
  },
  {
   "cell_type": "code",
   "execution_count": 54,
   "metadata": {
    "collapsed": true
   },
   "outputs": [],
   "source": [
    "allFacilityQuery = '''\n",
    "SELECT * \n",
    "FROM nyc_facilities\n",
    "'''\n",
    "allfacilityStream = queryCartoDB(allFacilityQuery, format='GeoJSON')\n",
    "allfacilityData   = json.loads(allfacilityStream.read())\n",
    "allFacilities    = gpd.GeoDataFrame.from_features(allfacilityData['features'])"
   ]
  },
  {
   "cell_type": "code",
   "execution_count": 55,
   "metadata": {
    "collapsed": false
   },
   "outputs": [
    {
     "data": {
      "text/html": [
       "<div>\n",
       "<table border=\"1\" class=\"dataframe\">\n",
       "  <thead>\n",
       "    <tr style=\"text-align: right;\">\n",
       "      <th></th>\n",
       "      <th>cartodb_id</th>\n",
       "      <th>cooperator_address</th>\n",
       "      <th>cooperator_address_2</th>\n",
       "      <th>cooperator_city</th>\n",
       "      <th>cooperator_name</th>\n",
       "      <th>cooperator_state</th>\n",
       "      <th>cooperator_zip_code</th>\n",
       "      <th>description</th>\n",
       "      <th>facility_address_1</th>\n",
       "      <th>facility_address_2</th>\n",
       "      <th>...</th>\n",
       "      <th>operator_address_2</th>\n",
       "      <th>operator_city</th>\n",
       "      <th>operator_name</th>\n",
       "      <th>operator_state</th>\n",
       "      <th>operator_zip_code</th>\n",
       "      <th>ownership_type</th>\n",
       "      <th>regional_office</th>\n",
       "      <th>regional_office_id</th>\n",
       "      <th>short_description</th>\n",
       "      <th>count</th>\n",
       "    </tr>\n",
       "  </thead>\n",
       "  <tbody>\n",
       "    <tr>\n",
       "      <th>0</th>\n",
       "      <td>2106</td>\n",
       "      <td></td>\n",
       "      <td></td>\n",
       "      <td></td>\n",
       "      <td></td>\n",
       "      <td>New York</td>\n",
       "      <td>NaN</td>\n",
       "      <td>Diagnostic and Treatment Center</td>\n",
       "      <td>1110 Pennsylvania Avenue</td>\n",
       "      <td></td>\n",
       "      <td>...</td>\n",
       "      <td></td>\n",
       "      <td>Brooklyn</td>\n",
       "      <td>PALA Community Care LLC</td>\n",
       "      <td>New York</td>\n",
       "      <td>11207</td>\n",
       "      <td>LLC</td>\n",
       "      <td>Metropolitan Area Regional Office - New York City</td>\n",
       "      <td>5</td>\n",
       "      <td>DTC</td>\n",
       "      <td>NaN</td>\n",
       "    </tr>\n",
       "    <tr>\n",
       "      <th>1</th>\n",
       "      <td>2311</td>\n",
       "      <td></td>\n",
       "      <td></td>\n",
       "      <td></td>\n",
       "      <td></td>\n",
       "      <td>New York</td>\n",
       "      <td>NaN</td>\n",
       "      <td>Diagnostic and Treatment Center</td>\n",
       "      <td>468 Lafayette Avenue</td>\n",
       "      <td></td>\n",
       "      <td>...</td>\n",
       "      <td></td>\n",
       "      <td>Brooklyn</td>\n",
       "      <td>Medcare, LLC</td>\n",
       "      <td>New York</td>\n",
       "      <td>11205</td>\n",
       "      <td>LLC</td>\n",
       "      <td>Metropolitan Area Regional Office - New York City</td>\n",
       "      <td>5</td>\n",
       "      <td>DTC</td>\n",
       "      <td>NaN</td>\n",
       "    </tr>\n",
       "    <tr>\n",
       "      <th>2</th>\n",
       "      <td>643</td>\n",
       "      <td></td>\n",
       "      <td></td>\n",
       "      <td></td>\n",
       "      <td></td>\n",
       "      <td>New York</td>\n",
       "      <td>NaN</td>\n",
       "      <td>Diagnostic and Treatment Center</td>\n",
       "      <td>1776 Clay Avenue</td>\n",
       "      <td></td>\n",
       "      <td>...</td>\n",
       "      <td></td>\n",
       "      <td>Bronx</td>\n",
       "      <td>P R O M E S A Inc</td>\n",
       "      <td>New York</td>\n",
       "      <td>10457</td>\n",
       "      <td>Not for Profit Corporation</td>\n",
       "      <td>Metropolitan Area Regional Office - New York City</td>\n",
       "      <td>5</td>\n",
       "      <td>DTC</td>\n",
       "      <td>NaN</td>\n",
       "    </tr>\n",
       "    <tr>\n",
       "      <th>3</th>\n",
       "      <td>805</td>\n",
       "      <td></td>\n",
       "      <td></td>\n",
       "      <td></td>\n",
       "      <td></td>\n",
       "      <td>New York</td>\n",
       "      <td>NaN</td>\n",
       "      <td>Residential Health Care Facility - SNF</td>\n",
       "      <td>214 West Houston Street</td>\n",
       "      <td></td>\n",
       "      <td>...</td>\n",
       "      <td></td>\n",
       "      <td>New York</td>\n",
       "      <td>Village Center for Care</td>\n",
       "      <td>New York</td>\n",
       "      <td>10271</td>\n",
       "      <td>Not for Profit Corporation</td>\n",
       "      <td>Metropolitan Area Regional Office - New York City</td>\n",
       "      <td>5</td>\n",
       "      <td>NH</td>\n",
       "      <td>NaN</td>\n",
       "    </tr>\n",
       "    <tr>\n",
       "      <th>4</th>\n",
       "      <td>1903</td>\n",
       "      <td></td>\n",
       "      <td></td>\n",
       "      <td></td>\n",
       "      <td></td>\n",
       "      <td>New York</td>\n",
       "      <td>NaN</td>\n",
       "      <td>Diagnostic and Treatment Center</td>\n",
       "      <td>2781 Third Ave</td>\n",
       "      <td></td>\n",
       "      <td>...</td>\n",
       "      <td></td>\n",
       "      <td>Bronx</td>\n",
       "      <td>Third Avenue Open MRI Inc</td>\n",
       "      <td>New York</td>\n",
       "      <td>10455</td>\n",
       "      <td>Business Corporation</td>\n",
       "      <td>Metropolitan Area Regional Office - New York City</td>\n",
       "      <td>5</td>\n",
       "      <td>DTC</td>\n",
       "      <td>NaN</td>\n",
       "    </tr>\n",
       "  </tbody>\n",
       "</table>\n",
       "<p>5 rows × 39 columns</p>\n",
       "</div>"
      ],
      "text/plain": [
       "   cartodb_id cooperator_address cooperator_address_2 cooperator_city  \\\n",
       "0        2106                                                           \n",
       "1        2311                                                           \n",
       "2         643                                                           \n",
       "3         805                                                           \n",
       "4        1903                                                           \n",
       "\n",
       "  cooperator_name cooperator_state  cooperator_zip_code  \\\n",
       "0                         New York                  NaN   \n",
       "1                         New York                  NaN   \n",
       "2                         New York                  NaN   \n",
       "3                         New York                  NaN   \n",
       "4                         New York                  NaN   \n",
       "\n",
       "                              description        facility_address_1  \\\n",
       "0         Diagnostic and Treatment Center  1110 Pennsylvania Avenue   \n",
       "1         Diagnostic and Treatment Center      468 Lafayette Avenue   \n",
       "2         Diagnostic and Treatment Center          1776 Clay Avenue   \n",
       "3  Residential Health Care Facility - SNF   214 West Houston Street   \n",
       "4         Diagnostic and Treatment Center            2781 Third Ave   \n",
       "\n",
       "  facility_address_2  ...  operator_address_2 operator_city  \\\n",
       "0                     ...                          Brooklyn   \n",
       "1                     ...                          Brooklyn   \n",
       "2                     ...                             Bronx   \n",
       "3                     ...                          New York   \n",
       "4                     ...                             Bronx   \n",
       "\n",
       "               operator_name  operator_state  operator_zip_code  \\\n",
       "0    PALA Community Care LLC        New York              11207   \n",
       "1               Medcare, LLC        New York              11205   \n",
       "2          P R O M E S A Inc        New York              10457   \n",
       "3    Village Center for Care        New York              10271   \n",
       "4  Third Avenue Open MRI Inc        New York              10455   \n",
       "\n",
       "               ownership_type  \\\n",
       "0                         LLC   \n",
       "1                         LLC   \n",
       "2  Not for Profit Corporation   \n",
       "3  Not for Profit Corporation   \n",
       "4        Business Corporation   \n",
       "\n",
       "                                     regional_office  regional_office_id  \\\n",
       "0  Metropolitan Area Regional Office - New York City                   5   \n",
       "1  Metropolitan Area Regional Office - New York City                   5   \n",
       "2  Metropolitan Area Regional Office - New York City                   5   \n",
       "3  Metropolitan Area Regional Office - New York City                   5   \n",
       "4  Metropolitan Area Regional Office - New York City                   5   \n",
       "\n",
       "  short_description count  \n",
       "0               DTC   NaN  \n",
       "1               DTC   NaN  \n",
       "2               DTC   NaN  \n",
       "3                NH   NaN  \n",
       "4               DTC   NaN  \n",
       "\n",
       "[5 rows x 39 columns]"
      ]
     },
     "execution_count": 55,
     "metadata": {},
     "output_type": "execute_result"
    }
   ],
   "source": [
    "allFacilities_Asthma = allFacilities.merge(allAsthma, how='left', on='facility_id')\n",
    "allFacilities_Asthma.rename(columns = {'facility_zip_code':'zipcode'}, inplace=1)\n",
    "allFacilities_Asthma.fillna(0)\n",
    "allFacilities_Asthma.head()"
   ]
  },
  {
   "cell_type": "code",
   "execution_count": null,
   "metadata": {
    "collapsed": false
   },
   "outputs": [],
   "source": []
  },
  {
   "cell_type": "code",
   "execution_count": null,
   "metadata": {
    "collapsed": true
   },
   "outputs": [],
   "source": []
  },
  {
   "cell_type": "code",
   "execution_count": null,
   "metadata": {
    "collapsed": true
   },
   "outputs": [],
   "source": []
  },
  {
   "cell_type": "code",
   "execution_count": null,
   "metadata": {
    "collapsed": true
   },
   "outputs": [],
   "source": []
  },
  {
   "cell_type": "code",
   "execution_count": null,
   "metadata": {
    "collapsed": true
   },
   "outputs": [],
   "source": []
  },
  {
   "cell_type": "code",
   "execution_count": null,
   "metadata": {
    "collapsed": true
   },
   "outputs": [],
   "source": []
  },
  {
   "cell_type": "code",
   "execution_count": null,
   "metadata": {
    "collapsed": true
   },
   "outputs": [],
   "source": []
  },
  {
   "cell_type": "code",
   "execution_count": null,
   "metadata": {
    "collapsed": true
   },
   "outputs": [],
   "source": []
  }
 ],
 "metadata": {
  "kernelspec": {
   "display_name": "Python 2",
   "language": "python",
   "name": "python2"
  },
  "language_info": {
   "codemirror_mode": {
    "name": "ipython",
    "version": 2
   },
   "file_extension": ".py",
   "mimetype": "text/x-python",
   "name": "python",
   "nbconvert_exporter": "python",
   "pygments_lexer": "ipython2",
   "version": "2.7.10"
  }
 },
 "nbformat": 4,
 "nbformat_minor": 0
}
